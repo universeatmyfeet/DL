{
  "nbformat": 4,
  "nbformat_minor": 0,
  "metadata": {
    "colab": {
      "name": "DL_TEST1_J051.ipynb",
      "provenance": [],
      "collapsed_sections": [],
      "include_colab_link": true
    },
    "kernelspec": {
      "name": "python3",
      "display_name": "Python 3"
    }
  },
  "cells": [
    {
      "cell_type": "markdown",
      "metadata": {
        "id": "view-in-github",
        "colab_type": "text"
      },
      "source": [
        "<a href=\"https://colab.research.google.com/github/universeatmyfeet/DL/blob/master/Test/DL_TEST1_J051.ipynb\" target=\"_parent\"><img src=\"https://colab.research.google.com/assets/colab-badge.svg\" alt=\"Open In Colab\"/></a>"
      ]
    },
    {
      "cell_type": "markdown",
      "metadata": {
        "id": "fInX34Gk563B",
        "colab_type": "text"
      },
      "source": [
        "\n",
        "\n",
        "DL TEST 1 (J051)\n"
      ]
    },
    {
      "cell_type": "markdown",
      "metadata": {
        "id": "9SyXwp3N56li",
        "colab_type": "text"
      },
      "source": [
        "DATASET- MNIST, Task 1, 2 and 3 - Choose a dataset , divide train test , build model"
      ]
    },
    {
      "cell_type": "code",
      "metadata": {
        "id": "lsFgMJLexG_l",
        "colab_type": "code",
        "outputId": "63b2f0a7-02f4-4522-d32d-dfe26436d0c7",
        "colab": {
          "base_uri": "https://localhost:8080/",
          "height": 408
        }
      },
      "source": [
        "import keras\n",
        "from keras import models\n",
        "from keras.layers import Dense, Dropout\n",
        "from keras.utils import to_categorical\n",
        "from keras.datasets import mnist\n",
        "from keras.utils.vis_utils import model_to_dot\n",
        "from IPython.display import SVG\n",
        "\n",
        "NUM_ROWS = 28\n",
        "NUM_COLS = 28\n",
        "NUM_CLASSES = 10\n",
        "BATCH_SIZE = 128\n",
        "EPOCHS = 10\n",
        "\n",
        "# Load data\n",
        "(X_train, y_train), (X_test, y_test) = mnist.load_data()\n",
        "\n",
        "\n",
        "\n",
        "# Reshape data\n",
        "X_train = X_train.reshape((X_train.shape[0], NUM_ROWS * NUM_COLS))\n",
        "X_train = X_train.astype('float32') / 255\n",
        "X_test = X_test.reshape((X_test.shape[0], NUM_ROWS * NUM_COLS))\n",
        "X_test = X_test.astype('float32') / 255\n",
        "\n",
        "# Categorically encode labels\n",
        "y_train = to_categorical(y_train, NUM_CLASSES)\n",
        "y_test = to_categorical(y_test, NUM_CLASSES)\n",
        "\n",
        "\n",
        "# Build neural network\n",
        "model = models.Sequential()\n",
        "model.add(Dense(512, activation='relu', input_shape=(NUM_ROWS * NUM_COLS,)))\n",
        "model.add(Dense(256, activation='relu'))\n",
        "model.add(Dense(10, activation='softmax'))\n",
        "\n",
        "# Compile model\n",
        "model.compile(optimizer='rmsprop',\n",
        "              loss='categorical_crossentropy',\n",
        "              metrics=['accuracy'])\n",
        "\n",
        "# Train model\n",
        "model.fit(X_train, y_train,\n",
        "          batch_size=BATCH_SIZE,\n",
        "          epochs=EPOCHS,\n",
        "          verbose=1,\n",
        "          validation_data=(X_test, y_test))\n",
        "\n",
        "score = model.evaluate(X_test, y_test, verbose=0)\n",
        "print('Test loss:', score[0])\n",
        "print('Test accuracy:', score[1])"
      ],
      "execution_count": 0,
      "outputs": [
        {
          "output_type": "stream",
          "text": [
            "Train on 60000 samples, validate on 10000 samples\n",
            "Epoch 1/10\n",
            "60000/60000 [==============================] - 7s 121us/step - loss: 0.2278 - acc: 0.9306 - val_loss: 0.1276 - val_acc: 0.9571\n",
            "Epoch 2/10\n",
            "60000/60000 [==============================] - 7s 116us/step - loss: 0.0851 - acc: 0.9737 - val_loss: 0.0879 - val_acc: 0.9733\n",
            "Epoch 3/10\n",
            "60000/60000 [==============================] - 7s 115us/step - loss: 0.0572 - acc: 0.9819 - val_loss: 0.0773 - val_acc: 0.9772\n",
            "Epoch 4/10\n",
            "60000/60000 [==============================] - 7s 116us/step - loss: 0.0421 - acc: 0.9869 - val_loss: 0.0964 - val_acc: 0.9733\n",
            "Epoch 5/10\n",
            "60000/60000 [==============================] - 7s 115us/step - loss: 0.0321 - acc: 0.9902 - val_loss: 0.0805 - val_acc: 0.9784\n",
            "Epoch 6/10\n",
            "60000/60000 [==============================] - 7s 114us/step - loss: 0.0246 - acc: 0.9923 - val_loss: 0.0880 - val_acc: 0.9777\n",
            "Epoch 7/10\n",
            "60000/60000 [==============================] - 7s 116us/step - loss: 0.0188 - acc: 0.9944 - val_loss: 0.1049 - val_acc: 0.9761\n",
            "Epoch 8/10\n",
            "60000/60000 [==============================] - 7s 116us/step - loss: 0.0176 - acc: 0.9946 - val_loss: 0.0981 - val_acc: 0.9799\n",
            "Epoch 9/10\n",
            "60000/60000 [==============================] - 7s 117us/step - loss: 0.0146 - acc: 0.9957 - val_loss: 0.1049 - val_acc: 0.9799\n",
            "Epoch 10/10\n",
            "60000/60000 [==============================] - 7s 117us/step - loss: 0.0117 - acc: 0.9966 - val_loss: 0.0986 - val_acc: 0.9821\n",
            "Test loss: 0.09857604046542606\n",
            "Test accuracy: 0.9821\n"
          ],
          "name": "stdout"
        }
      ]
    },
    {
      "cell_type": "markdown",
      "metadata": {
        "id": "AXL9Q59Y6LL4",
        "colab_type": "text"
      },
      "source": [
        "Task 4 - performance of different optimizers"
      ]
    },
    {
      "cell_type": "markdown",
      "metadata": {
        "id": "HVBjdo-H6Ns4",
        "colab_type": "text"
      },
      "source": [
        "1)SGD"
      ]
    },
    {
      "cell_type": "code",
      "metadata": {
        "id": "ozKOSJLk6K4m",
        "colab_type": "code",
        "outputId": "dab44b09-aafb-4798-d070-3dbaa8451867",
        "colab": {
          "base_uri": "https://localhost:8080/",
          "height": 408
        }
      },
      "source": [
        "from keras import optimizers\n",
        "sgd=keras.optimizers.SGD(lr=0.01, momentum=0.0, nesterov=False)\n",
        "\n",
        "# Compile model using above optimizer\n",
        "model.compile(optimizer=sgd,\n",
        "              loss='categorical_crossentropy',\n",
        "              metrics=['accuracy'])\n",
        "\n",
        "# Train model\n",
        "model.fit(X_train, y_train,\n",
        "          batch_size=BATCH_SIZE,\n",
        "          epochs=EPOCHS,\n",
        "          verbose=1,\n",
        "          validation_data=(X_test, y_test))\n",
        "\n",
        "score = model.evaluate(X_test, y_test, verbose=0)\n",
        "print('Test loss:', score[0])\n",
        "print('Test accuracy:', score[1])"
      ],
      "execution_count": 0,
      "outputs": [
        {
          "output_type": "stream",
          "text": [
            "Train on 60000 samples, validate on 10000 samples\n",
            "Epoch 1/10\n",
            "60000/60000 [==============================] - 6s 107us/step - loss: 0.0040 - acc: 0.9987 - val_loss: 0.0920 - val_acc: 0.9842\n",
            "Epoch 2/10\n",
            "60000/60000 [==============================] - 6s 100us/step - loss: 0.0026 - acc: 0.9993 - val_loss: 0.0903 - val_acc: 0.9844\n",
            "Epoch 3/10\n",
            "60000/60000 [==============================] - 6s 98us/step - loss: 0.0020 - acc: 0.9995 - val_loss: 0.0893 - val_acc: 0.9846\n",
            "Epoch 4/10\n",
            "60000/60000 [==============================] - 6s 103us/step - loss: 0.0017 - acc: 0.9996 - val_loss: 0.0886 - val_acc: 0.9843\n",
            "Epoch 5/10\n",
            "60000/60000 [==============================] - 6s 101us/step - loss: 0.0015 - acc: 0.9996 - val_loss: 0.0882 - val_acc: 0.9843\n",
            "Epoch 6/10\n",
            "60000/60000 [==============================] - 6s 98us/step - loss: 0.0014 - acc: 0.9997 - val_loss: 0.0878 - val_acc: 0.9841\n",
            "Epoch 7/10\n",
            "60000/60000 [==============================] - 6s 97us/step - loss: 0.0013 - acc: 0.9998 - val_loss: 0.0876 - val_acc: 0.9843\n",
            "Epoch 8/10\n",
            "60000/60000 [==============================] - 6s 97us/step - loss: 0.0012 - acc: 0.9998 - val_loss: 0.0873 - val_acc: 0.9843\n",
            "Epoch 9/10\n",
            "60000/60000 [==============================] - 6s 98us/step - loss: 0.0011 - acc: 0.9998 - val_loss: 0.0871 - val_acc: 0.9844\n",
            "Epoch 10/10\n",
            "60000/60000 [==============================] - 6s 98us/step - loss: 0.0010 - acc: 0.9998 - val_loss: 0.0870 - val_acc: 0.9841\n",
            "Test loss: 0.08699990694499975\n",
            "Test accuracy: 0.9841\n"
          ],
          "name": "stdout"
        }
      ]
    },
    {
      "cell_type": "markdown",
      "metadata": {
        "id": "icu-rBqi6VZ_",
        "colab_type": "text"
      },
      "source": [
        "#2)RMSprop"
      ]
    },
    {
      "cell_type": "code",
      "metadata": {
        "id": "DelSaxAmxHCq",
        "colab_type": "code",
        "outputId": "dcee3235-c284-431b-e59b-74fc95aa6cf4",
        "colab": {
          "base_uri": "https://localhost:8080/",
          "height": 408
        }
      },
      "source": [
        "from keras import optimizers\n",
        "rms=keras.optimizers.RMSprop(lr=0.001, rho=0.9)\n",
        "\n",
        "# Compile model using above optimizer\n",
        "model.compile(optimizer=rms,\n",
        "              loss='categorical_crossentropy',\n",
        "              metrics=['accuracy'])\n",
        "\n",
        "# Train model\n",
        "model.fit(X_train, y_train,\n",
        "          batch_size=BATCH_SIZE,\n",
        "          epochs=EPOCHS,\n",
        "          verbose=1,\n",
        "          validation_data=(X_test, y_test))\n",
        "\n",
        "score = model.evaluate(X_test, y_test, verbose=0)\n",
        "print('Test loss:', score[0])\n",
        "print('Test accuracy:', score[1])"
      ],
      "execution_count": 0,
      "outputs": [
        {
          "output_type": "stream",
          "text": [
            "Train on 60000 samples, validate on 10000 samples\n",
            "Epoch 1/10\n",
            "60000/60000 [==============================] - 7s 120us/step - loss: 0.0119 - acc: 0.9965 - val_loss: 0.1059 - val_acc: 0.9821\n",
            "Epoch 2/10\n",
            "60000/60000 [==============================] - 7s 114us/step - loss: 0.0081 - acc: 0.9975 - val_loss: 0.1051 - val_acc: 0.9820\n",
            "Epoch 3/10\n",
            "60000/60000 [==============================] - 7s 114us/step - loss: 0.0078 - acc: 0.9978 - val_loss: 0.1143 - val_acc: 0.9822\n",
            "Epoch 4/10\n",
            "60000/60000 [==============================] - 7s 113us/step - loss: 0.0081 - acc: 0.9976 - val_loss: 0.1430 - val_acc: 0.9803\n",
            "Epoch 5/10\n",
            "60000/60000 [==============================] - 7s 114us/step - loss: 0.0068 - acc: 0.9981 - val_loss: 0.1201 - val_acc: 0.9822\n",
            "Epoch 6/10\n",
            "60000/60000 [==============================] - 7s 115us/step - loss: 0.0068 - acc: 0.9981 - val_loss: 0.1121 - val_acc: 0.9840\n",
            "Epoch 7/10\n",
            "60000/60000 [==============================] - 7s 114us/step - loss: 0.0057 - acc: 0.9983 - val_loss: 0.1209 - val_acc: 0.9836\n",
            "Epoch 8/10\n",
            "60000/60000 [==============================] - 7s 115us/step - loss: 0.0048 - acc: 0.9987 - val_loss: 0.1320 - val_acc: 0.9833\n",
            "Epoch 9/10\n",
            "60000/60000 [==============================] - 7s 114us/step - loss: 0.0051 - acc: 0.9986 - val_loss: 0.1387 - val_acc: 0.9829\n",
            "Epoch 10/10\n",
            "60000/60000 [==============================] - 7s 113us/step - loss: 0.0048 - acc: 0.9987 - val_loss: 0.1642 - val_acc: 0.9788\n",
            "Test loss: 0.16419899174034067\n",
            "Test accuracy: 0.9788\n"
          ],
          "name": "stdout"
        }
      ]
    },
    {
      "cell_type": "markdown",
      "metadata": {
        "id": "Da9RywZg6byd",
        "colab_type": "text"
      },
      "source": [
        "3)Adagrad"
      ]
    },
    {
      "cell_type": "code",
      "metadata": {
        "id": "GMM01X6CxHIA",
        "colab_type": "code",
        "outputId": "da28448f-fbfc-4535-c96c-8582b3d506a1",
        "colab": {
          "base_uri": "https://localhost:8080/",
          "height": 408
        }
      },
      "source": [
        "from keras import optimizers\n",
        "ada=keras.optimizers.Adagrad(lr=0.01)\n",
        "\n",
        "# Compile model using above optimizer\n",
        "model.compile(optimizer=ada,\n",
        "              loss='categorical_crossentropy',\n",
        "              metrics=['accuracy'])\n",
        "\n",
        "# Train model\n",
        "model.fit(X_train, y_train,\n",
        "          batch_size=BATCH_SIZE,\n",
        "          epochs=EPOCHS,\n",
        "          verbose=1,\n",
        "          validation_data=(X_test, y_test))\n",
        "\n",
        "score = model.evaluate(X_test, y_test, verbose=0)\n",
        "print('Test loss:', score[0])\n",
        "print('Test accuracy:', score[1])"
      ],
      "execution_count": 0,
      "outputs": [
        {
          "output_type": "stream",
          "text": [
            "Train on 60000 samples, validate on 10000 samples\n",
            "Epoch 1/10\n",
            "60000/60000 [==============================] - 7s 115us/step - loss: 0.0335 - acc: 0.9953 - val_loss: 0.1362 - val_acc: 0.9818\n",
            "Epoch 2/10\n",
            "60000/60000 [==============================] - 6s 108us/step - loss: 0.0011 - acc: 0.9998 - val_loss: 0.1295 - val_acc: 0.9836\n",
            "Epoch 3/10\n",
            "60000/60000 [==============================] - 6s 107us/step - loss: 3.2604e-04 - acc: 1.0000 - val_loss: 0.1276 - val_acc: 0.9831\n",
            "Epoch 4/10\n",
            "60000/60000 [==============================] - 6s 108us/step - loss: 2.9272e-04 - acc: 1.0000 - val_loss: 0.1275 - val_acc: 0.9829\n",
            "Epoch 5/10\n",
            "60000/60000 [==============================] - 6s 108us/step - loss: 2.8789e-04 - acc: 1.0000 - val_loss: 0.1275 - val_acc: 0.9830\n",
            "Epoch 6/10\n",
            "60000/60000 [==============================] - 6s 108us/step - loss: 2.8557e-04 - acc: 1.0000 - val_loss: 0.1274 - val_acc: 0.9830\n",
            "Epoch 7/10\n",
            "60000/60000 [==============================] - 7s 108us/step - loss: 2.8394e-04 - acc: 1.0000 - val_loss: 0.1274 - val_acc: 0.9830\n",
            "Epoch 8/10\n",
            "60000/60000 [==============================] - 6s 108us/step - loss: 2.8267e-04 - acc: 1.0000 - val_loss: 0.1274 - val_acc: 0.9830\n",
            "Epoch 9/10\n",
            "60000/60000 [==============================] - 7s 109us/step - loss: 2.8165e-04 - acc: 1.0000 - val_loss: 0.1274 - val_acc: 0.9831\n",
            "Epoch 10/10\n",
            "60000/60000 [==============================] - 6s 108us/step - loss: 2.8082e-04 - acc: 1.0000 - val_loss: 0.1274 - val_acc: 0.9832\n",
            "Test loss: 0.12741542895332614\n",
            "Test accuracy: 0.9832\n"
          ],
          "name": "stdout"
        }
      ]
    },
    {
      "cell_type": "markdown",
      "metadata": {
        "id": "myAAG0U36kh3",
        "colab_type": "text"
      },
      "source": [
        "4)Adadelta"
      ]
    },
    {
      "cell_type": "code",
      "metadata": {
        "id": "J5MlR2-5xHF_",
        "colab_type": "code",
        "outputId": "098b14f5-8e6d-498f-c101-ccd9bb555cc6",
        "colab": {
          "base_uri": "https://localhost:8080/",
          "height": 408
        }
      },
      "source": [
        "from keras import optimizers\n",
        "adelta=keras.optimizers.Adadelta(lr=1.0, rho=0.95)\n",
        "\n",
        "# Compile model using above optimizer\n",
        "model.compile(optimizer=adelta,\n",
        "              loss='categorical_crossentropy',\n",
        "              metrics=['accuracy'])\n",
        "\n",
        "# Train model\n",
        "model.fit(X_train, y_train,\n",
        "          batch_size=BATCH_SIZE,\n",
        "          epochs=EPOCHS,\n",
        "          verbose=1,\n",
        "          validation_data=(X_test, y_test))\n",
        "\n",
        "score = model.evaluate(X_test, y_test, verbose=0)\n",
        "print('Test loss:', score[0])\n",
        "print('Test accuracy:', score[1])"
      ],
      "execution_count": 0,
      "outputs": [
        {
          "output_type": "stream",
          "text": [
            "Train on 60000 samples, validate on 10000 samples\n",
            "Epoch 1/10\n",
            "60000/60000 [==============================] - 9s 142us/step - loss: 2.8015e-04 - acc: 1.0000 - val_loss: 0.1273 - val_acc: 0.9835\n",
            "Epoch 2/10\n",
            "60000/60000 [==============================] - 8s 133us/step - loss: 2.7826e-04 - acc: 1.0000 - val_loss: 0.1273 - val_acc: 0.9836\n",
            "Epoch 3/10\n",
            "60000/60000 [==============================] - 8s 135us/step - loss: 2.7700e-04 - acc: 1.0000 - val_loss: 0.1273 - val_acc: 0.9836\n",
            "Epoch 4/10\n",
            "60000/60000 [==============================] - 8s 134us/step - loss: 2.7615e-04 - acc: 1.0000 - val_loss: 0.1273 - val_acc: 0.9836\n",
            "Epoch 5/10\n",
            "60000/60000 [==============================] - 8s 136us/step - loss: 2.7547e-04 - acc: 1.0000 - val_loss: 0.1274 - val_acc: 0.9836\n",
            "Epoch 6/10\n",
            "60000/60000 [==============================] - 8s 135us/step - loss: 2.7493e-04 - acc: 1.0000 - val_loss: 0.1274 - val_acc: 0.9836\n",
            "Epoch 7/10\n",
            "60000/60000 [==============================] - 8s 137us/step - loss: 2.7450e-04 - acc: 1.0000 - val_loss: 0.1276 - val_acc: 0.9835\n",
            "Epoch 8/10\n",
            "60000/60000 [==============================] - 8s 135us/step - loss: 2.7414e-04 - acc: 1.0000 - val_loss: 0.1276 - val_acc: 0.9834\n",
            "Epoch 9/10\n",
            "60000/60000 [==============================] - 8s 136us/step - loss: 2.7383e-04 - acc: 1.0000 - val_loss: 0.1277 - val_acc: 0.9834\n",
            "Epoch 10/10\n",
            "60000/60000 [==============================] - 8s 135us/step - loss: 2.7355e-04 - acc: 1.0000 - val_loss: 0.1277 - val_acc: 0.9833\n",
            "Test loss: 0.12774236969797348\n",
            "Test accuracy: 0.9833\n"
          ],
          "name": "stdout"
        }
      ]
    },
    {
      "cell_type": "markdown",
      "metadata": {
        "id": "uRMiMCib6roR",
        "colab_type": "text"
      },
      "source": [
        "# 5)Adam"
      ]
    },
    {
      "cell_type": "code",
      "metadata": {
        "id": "ZleaE736wPDW",
        "colab_type": "code",
        "outputId": "4568a2f3-3523-4e1f-c2a0-43f1d25e91ac",
        "colab": {
          "base_uri": "https://localhost:8080/",
          "height": 408
        }
      },
      "source": [
        "from keras import optimizers\n",
        "adam=keras.optimizers.Adam(lr=0.001, beta_1=0.9, beta_2=0.999, amsgrad=False)\n",
        "\n",
        "# Compile model using above optimizer\n",
        "model.compile(optimizer=adam,\n",
        "              loss='categorical_crossentropy',\n",
        "              metrics=['accuracy'])\n",
        "\n",
        "# Train model\n",
        "model.fit(X_train, y_train,\n",
        "          batch_size=BATCH_SIZE,\n",
        "          epochs=EPOCHS,\n",
        "          verbose=1,\n",
        "          validation_data=(X_test, y_test))\n",
        "\n",
        "score = model.evaluate(X_test, y_test, verbose=0)\n",
        "print('Test loss:', score[0])\n",
        "print('Test accuracy:', score[1])"
      ],
      "execution_count": 0,
      "outputs": [
        {
          "output_type": "stream",
          "text": [
            "Train on 60000 samples, validate on 10000 samples\n",
            "Epoch 1/10\n",
            "60000/60000 [==============================] - 8s 130us/step - loss: 0.0215 - acc: 0.9953 - val_loss: 0.1446 - val_acc: 0.9803\n",
            "Epoch 2/10\n",
            "60000/60000 [==============================] - 7s 121us/step - loss: 0.0150 - acc: 0.9960 - val_loss: 0.1525 - val_acc: 0.9780\n",
            "Epoch 3/10\n",
            "60000/60000 [==============================] - 7s 121us/step - loss: 0.0120 - acc: 0.9966 - val_loss: 0.1372 - val_acc: 0.9789\n",
            "Epoch 4/10\n",
            "60000/60000 [==============================] - 7s 122us/step - loss: 0.0131 - acc: 0.9964 - val_loss: 0.1114 - val_acc: 0.9818\n",
            "Epoch 5/10\n",
            "60000/60000 [==============================] - 7s 122us/step - loss: 0.0070 - acc: 0.9980 - val_loss: 0.1477 - val_acc: 0.9773\n",
            "Epoch 6/10\n",
            "60000/60000 [==============================] - 7s 122us/step - loss: 0.0113 - acc: 0.9970 - val_loss: 0.1177 - val_acc: 0.9815\n",
            "Epoch 7/10\n",
            "60000/60000 [==============================] - 7s 121us/step - loss: 0.0150 - acc: 0.9961 - val_loss: 0.1499 - val_acc: 0.9785\n",
            "Epoch 8/10\n",
            "60000/60000 [==============================] - 7s 121us/step - loss: 0.0075 - acc: 0.9977 - val_loss: 0.1109 - val_acc: 0.9814\n",
            "Epoch 9/10\n",
            "60000/60000 [==============================] - 7s 121us/step - loss: 0.0087 - acc: 0.9974 - val_loss: 0.1142 - val_acc: 0.9816\n",
            "Epoch 10/10\n",
            "60000/60000 [==============================] - 7s 122us/step - loss: 0.0101 - acc: 0.9972 - val_loss: 0.1183 - val_acc: 0.9802\n",
            "Test loss: 0.11832725769197851\n",
            "Test accuracy: 0.9802\n"
          ],
          "name": "stdout"
        }
      ]
    },
    {
      "cell_type": "markdown",
      "metadata": {
        "id": "hUlHjd5y6zhN",
        "colab_type": "text"
      },
      "source": [
        "6)Adamax\n"
      ]
    },
    {
      "cell_type": "code",
      "metadata": {
        "id": "x9Dp_zTk63N4",
        "colab_type": "code",
        "outputId": "f7973748-6f3f-428a-a6e4-d562cb3085c7",
        "colab": {
          "base_uri": "https://localhost:8080/",
          "height": 408
        }
      },
      "source": [
        "from keras import optimizers\n",
        "adamax=keras.optimizers.Adamax(lr=0.002, beta_1=0.9, beta_2=0.999)\n",
        "\n",
        "# Compile model using above optimizer\n",
        "model.compile(optimizer=adamax,\n",
        "              loss='categorical_crossentropy',\n",
        "              metrics=['accuracy'])\n",
        "\n",
        "# Train model\n",
        "model.fit(X_train, y_train,\n",
        "          batch_size=BATCH_SIZE,\n",
        "          epochs=EPOCHS,\n",
        "          verbose=1,\n",
        "          validation_data=(X_test, y_test))\n",
        "\n",
        "score = model.evaluate(X_test, y_test, verbose=0)\n",
        "print('Test loss:', score[0])\n",
        "print('Test accuracy:', score[1])"
      ],
      "execution_count": 0,
      "outputs": [
        {
          "output_type": "stream",
          "text": [
            "Train on 60000 samples, validate on 10000 samples\n",
            "Epoch 1/10\n",
            "60000/60000 [==============================] - 8s 128us/step - loss: 0.0015 - acc: 0.9996 - val_loss: 0.1006 - val_acc: 0.9851\n",
            "Epoch 2/10\n",
            "60000/60000 [==============================] - 7s 118us/step - loss: 3.2098e-04 - acc: 1.0000 - val_loss: 0.0984 - val_acc: 0.9853\n",
            "Epoch 3/10\n",
            "60000/60000 [==============================] - 7s 116us/step - loss: 2.8815e-04 - acc: 1.0000 - val_loss: 0.0985 - val_acc: 0.9854\n",
            "Epoch 4/10\n",
            "60000/60000 [==============================] - 7s 117us/step - loss: 2.8161e-04 - acc: 1.0000 - val_loss: 0.0993 - val_acc: 0.9854\n",
            "Epoch 5/10\n",
            "60000/60000 [==============================] - 7s 117us/step - loss: 2.7787e-04 - acc: 1.0000 - val_loss: 0.1003 - val_acc: 0.9855\n",
            "Epoch 6/10\n",
            "60000/60000 [==============================] - 7s 118us/step - loss: 2.7519e-04 - acc: 1.0000 - val_loss: 0.1017 - val_acc: 0.9858\n",
            "Epoch 7/10\n",
            "60000/60000 [==============================] - 7s 117us/step - loss: 2.7314e-04 - acc: 1.0000 - val_loss: 0.1032 - val_acc: 0.9856\n",
            "Epoch 8/10\n",
            "60000/60000 [==============================] - 7s 118us/step - loss: 2.7172e-04 - acc: 1.0000 - val_loss: 0.1047 - val_acc: 0.9861\n",
            "Epoch 9/10\n",
            "60000/60000 [==============================] - 7s 117us/step - loss: 2.7067e-04 - acc: 1.0000 - val_loss: 0.1063 - val_acc: 0.9860\n",
            "Epoch 10/10\n",
            "60000/60000 [==============================] - 7s 117us/step - loss: 2.6997e-04 - acc: 1.0000 - val_loss: 0.1084 - val_acc: 0.9859\n",
            "Test loss: 0.10838720070191052\n",
            "Test accuracy: 0.9859\n"
          ],
          "name": "stdout"
        }
      ]
    },
    {
      "cell_type": "markdown",
      "metadata": {
        "id": "-MP3TWcy7Dl3",
        "colab_type": "text"
      },
      "source": [
        "7)Nadam"
      ]
    },
    {
      "cell_type": "code",
      "metadata": {
        "id": "v6Wjm_qY63vL",
        "colab_type": "code",
        "outputId": "88facadd-9183-461b-af10-32797f160c79",
        "colab": {
          "base_uri": "https://localhost:8080/",
          "height": 408
        }
      },
      "source": [
        "from keras import optimizers\n",
        "nadam=keras.optimizers.Nadam(lr=0.002, beta_1=0.9, beta_2=0.999)\n",
        "\n",
        "# Compile model using above optimizer\n",
        "model.compile(optimizer=nadam,\n",
        "              loss='categorical_crossentropy',\n",
        "              metrics=['accuracy'])\n",
        "\n",
        "# Train model\n",
        "model.fit(X_train, y_train,\n",
        "          batch_size=BATCH_SIZE,\n",
        "          epochs=EPOCHS,\n",
        "          verbose=1,\n",
        "          validation_data=(X_test, y_test))\n",
        "\n",
        "score = model.evaluate(X_test, y_test, verbose=0)\n",
        "print('Test loss:', score[0])\n",
        "print('Test accuracy:', score[1])"
      ],
      "execution_count": 0,
      "outputs": [
        {
          "output_type": "stream",
          "text": [
            "Train on 60000 samples, validate on 10000 samples\n",
            "Epoch 1/10\n",
            "60000/60000 [==============================] - 8s 141us/step - loss: 0.0335 - acc: 0.9926 - val_loss: 0.1543 - val_acc: 0.9761\n",
            "Epoch 2/10\n",
            "60000/60000 [==============================] - 8s 129us/step - loss: 0.0209 - acc: 0.9942 - val_loss: 0.1385 - val_acc: 0.9777\n",
            "Epoch 3/10\n",
            "60000/60000 [==============================] - 8s 131us/step - loss: 0.0248 - acc: 0.9938 - val_loss: 0.1340 - val_acc: 0.9783\n",
            "Epoch 4/10\n",
            "60000/60000 [==============================] - 8s 132us/step - loss: 0.0196 - acc: 0.9945 - val_loss: 0.1152 - val_acc: 0.9791\n",
            "Epoch 5/10\n",
            "60000/60000 [==============================] - 8s 130us/step - loss: 0.0205 - acc: 0.9944 - val_loss: 0.1110 - val_acc: 0.9786\n",
            "Epoch 6/10\n",
            "60000/60000 [==============================] - 8s 129us/step - loss: 0.0227 - acc: 0.9935 - val_loss: 0.1206 - val_acc: 0.9789\n",
            "Epoch 7/10\n",
            "60000/60000 [==============================] - 8s 130us/step - loss: 0.0140 - acc: 0.9963 - val_loss: 0.1207 - val_acc: 0.9792\n",
            "Epoch 8/10\n",
            "60000/60000 [==============================] - 8s 130us/step - loss: 0.0148 - acc: 0.9958 - val_loss: 0.1133 - val_acc: 0.9802\n",
            "Epoch 9/10\n",
            "60000/60000 [==============================] - 8s 130us/step - loss: 0.0188 - acc: 0.9950 - val_loss: 0.1530 - val_acc: 0.9788\n",
            "Epoch 10/10\n",
            "60000/60000 [==============================] - 8s 131us/step - loss: 0.0174 - acc: 0.9956 - val_loss: 0.1122 - val_acc: 0.9809\n",
            "Test loss: 0.11216217061202419\n",
            "Test accuracy: 0.9809\n"
          ],
          "name": "stdout"
        }
      ]
    },
    {
      "cell_type": "markdown",
      "metadata": {
        "id": "hBWuVjxf7KDK",
        "colab_type": "text"
      },
      "source": [
        "Task 5 - list hyperparameter settings"
      ]
    },
    {
      "cell_type": "code",
      "metadata": {
        "id": "WtBAZjtw63tQ",
        "colab_type": "code",
        "outputId": "e6c9ed77-12b4-4e03-9efd-fae6f221c791",
        "colab": {
          "base_uri": "https://localhost:8080/",
          "height": 748
        }
      },
      "source": [
        "from keras import optimizers\n",
        "import keras\n",
        "from keras import models\n",
        "from keras.layers import Dense, Dropout\n",
        "from keras.utils import to_categorical\n",
        "adamax=keras.optimizers.Adamax(lr=0.002, beta_1=0.9, beta_2=0.999)\n",
        "# Compile model using above optimizer\n",
        "\n",
        "NUM_ROWS = 28\n",
        "NUM_COLS = 28\n",
        "NUM_CLASSES = 10\n",
        "BATCH_SIZE = 128\n",
        "EPOCHS = 20\n",
        "\n",
        "# Load data\n",
        "(X_train, y_train), (X_test, y_test) = mnist.load_data()\n",
        "\n",
        "# Reshape data\n",
        "X_train = X_train.reshape((X_train.shape[0], NUM_ROWS * NUM_COLS))\n",
        "X_train = X_train.astype('float32') / 255\n",
        "X_test = X_test.reshape((X_test.shape[0], NUM_ROWS * NUM_COLS))\n",
        "X_test = X_test.astype('float32') / 255\n",
        "\n",
        "# Categorically encode labels\n",
        "y_train = to_categorical(y_train, NUM_CLASSES)\n",
        "y_test = to_categorical(y_test, NUM_CLASSES)\n",
        "\n",
        "# Build neural network\n",
        "model = models.Sequential()\n",
        "model.add(Dense(512, activation='relu', input_shape=(NUM_ROWS * NUM_COLS,)))\n",
        "model.add(Dense(256, activation='relu'))\n",
        "model.add(Dense(10, activation='softmax'))\n",
        "\n",
        "# Compile model\n",
        "model.compile(optimizer='rmsprop',\n",
        "              loss='categorical_crossentropy',\n",
        "              metrics=['accuracy'])\n",
        "\n",
        "model.compile(optimizer=adamax,\n",
        "              loss='categorical_crossentropy',\n",
        "              metrics=['accuracy'])\n",
        "\n",
        "# Train model\n",
        "model.fit(X_train, y_train,\n",
        "          batch_size=BATCH_SIZE,\n",
        "          epochs=EPOCHS,\n",
        "          verbose=1,\n",
        "          validation_data=(X_test, y_test))\n",
        "\n",
        "score = model.evaluate(X_test, y_test, verbose=0)\n",
        "print('Test loss:', score[0])\n",
        "print('Test accuracy:', score[1])"
      ],
      "execution_count": 0,
      "outputs": [
        {
          "output_type": "stream",
          "text": [
            "Train on 60000 samples, validate on 10000 samples\n",
            "Epoch 1/20\n",
            "60000/60000 [==============================] - 8s 127us/step - loss: 0.2394 - acc: 0.9303 - val_loss: 0.1217 - val_acc: 0.9614\n",
            "Epoch 2/20\n",
            "60000/60000 [==============================] - 7s 122us/step - loss: 0.0995 - acc: 0.9711 - val_loss: 0.0826 - val_acc: 0.9749\n",
            "Epoch 3/20\n",
            "60000/60000 [==============================] - 7s 118us/step - loss: 0.0650 - acc: 0.9800 - val_loss: 0.0763 - val_acc: 0.9748\n",
            "Epoch 4/20\n",
            "60000/60000 [==============================] - 7s 119us/step - loss: 0.0462 - acc: 0.9855 - val_loss: 0.0661 - val_acc: 0.9791\n",
            "Epoch 5/20\n",
            "60000/60000 [==============================] - 7s 115us/step - loss: 0.0320 - acc: 0.9904 - val_loss: 0.0586 - val_acc: 0.9810\n",
            "Epoch 6/20\n",
            "60000/60000 [==============================] - 7s 113us/step - loss: 0.0235 - acc: 0.9931 - val_loss: 0.0578 - val_acc: 0.9804\n",
            "Epoch 7/20\n",
            "60000/60000 [==============================] - 7s 118us/step - loss: 0.0170 - acc: 0.9952 - val_loss: 0.0633 - val_acc: 0.9802\n",
            "Epoch 8/20\n",
            "60000/60000 [==============================] - 7s 116us/step - loss: 0.0117 - acc: 0.9972 - val_loss: 0.0608 - val_acc: 0.9815\n",
            "Epoch 9/20\n",
            "60000/60000 [==============================] - 7s 115us/step - loss: 0.0089 - acc: 0.9977 - val_loss: 0.0686 - val_acc: 0.9810\n",
            "Epoch 10/20\n",
            "60000/60000 [==============================] - 7s 116us/step - loss: 0.0057 - acc: 0.9987 - val_loss: 0.0615 - val_acc: 0.9829\n",
            "Epoch 11/20\n",
            "60000/60000 [==============================] - 7s 117us/step - loss: 0.0045 - acc: 0.9990 - val_loss: 0.0628 - val_acc: 0.9823\n",
            "Epoch 12/20\n",
            "60000/60000 [==============================] - 7s 115us/step - loss: 0.0033 - acc: 0.9993 - val_loss: 0.0672 - val_acc: 0.9822\n",
            "Epoch 13/20\n",
            "60000/60000 [==============================] - 7s 115us/step - loss: 0.0018 - acc: 0.9998 - val_loss: 0.0631 - val_acc: 0.9832\n",
            "Epoch 14/20\n",
            "60000/60000 [==============================] - 7s 115us/step - loss: 0.0015 - acc: 0.9998 - val_loss: 0.0681 - val_acc: 0.9828\n",
            "Epoch 15/20\n",
            "60000/60000 [==============================] - 7s 115us/step - loss: 8.5229e-04 - acc: 1.0000 - val_loss: 0.0688 - val_acc: 0.9821\n",
            "Epoch 16/20\n",
            "60000/60000 [==============================] - 7s 115us/step - loss: 7.2427e-04 - acc: 0.9999 - val_loss: 0.0764 - val_acc: 0.9818\n",
            "Epoch 17/20\n",
            "60000/60000 [==============================] - 7s 114us/step - loss: 0.0015 - acc: 0.9996 - val_loss: 0.0730 - val_acc: 0.9823\n",
            "Epoch 18/20\n",
            "60000/60000 [==============================] - 7s 115us/step - loss: 3.9254e-04 - acc: 1.0000 - val_loss: 0.0677 - val_acc: 0.9836\n",
            "Epoch 19/20\n",
            "60000/60000 [==============================] - 7s 115us/step - loss: 2.3736e-04 - acc: 1.0000 - val_loss: 0.0828 - val_acc: 0.9807\n",
            "Epoch 20/20\n",
            "60000/60000 [==============================] - 7s 115us/step - loss: 4.2459e-04 - acc: 0.9999 - val_loss: 0.0726 - val_acc: 0.9837\n",
            "Test loss: 0.07261015367465329\n",
            "Test accuracy: 0.9837\n"
          ],
          "name": "stdout"
        }
      ]
    },
    {
      "cell_type": "markdown",
      "metadata": {
        "id": "8y-zmhto7U6k",
        "colab_type": "text"
      },
      "source": [
        "Task 6 - plot epochs"
      ]
    },
    {
      "cell_type": "code",
      "metadata": {
        "id": "Q7ZaC6tb63p5",
        "colab_type": "code",
        "outputId": "11437cef-73cc-444c-fd16-582e6fb69149",
        "colab": {
          "base_uri": "https://localhost:8080/",
          "height": 428
        }
      },
      "source": [
        "#Training\n",
        "history = model.fit(X_train, y_train, batch_size=128, nb_epoch=10, verbose=1, validation_data=(X_test, y_test))"
      ],
      "execution_count": 0,
      "outputs": [
        {
          "output_type": "stream",
          "text": [
            "Train on 60000 samples, validate on 10000 samples\n",
            "Epoch 1/10\n",
            " 1664/60000 [..............................] - ETA: 6s - loss: 0.0074 - acc: 0.9976"
          ],
          "name": "stdout"
        },
        {
          "output_type": "stream",
          "text": [
            "/usr/local/lib/python3.6/dist-packages/ipykernel_launcher.py:1: UserWarning: The `nb_epoch` argument in `fit` has been renamed `epochs`.\n",
            "  \"\"\"Entry point for launching an IPython kernel.\n"
          ],
          "name": "stderr"
        },
        {
          "output_type": "stream",
          "text": [
            "60000/60000 [==============================] - 7s 113us/step - loss: 0.0101 - acc: 0.9966 - val_loss: 0.1019 - val_acc: 0.9806\n",
            "Epoch 2/10\n",
            "60000/60000 [==============================] - 7s 113us/step - loss: 0.0079 - acc: 0.9977 - val_loss: 0.1201 - val_acc: 0.9803\n",
            "Epoch 3/10\n",
            "60000/60000 [==============================] - 7s 112us/step - loss: 0.0079 - acc: 0.9977 - val_loss: 0.1245 - val_acc: 0.9796\n",
            "Epoch 4/10\n",
            "60000/60000 [==============================] - 7s 112us/step - loss: 0.0070 - acc: 0.9981 - val_loss: 0.1399 - val_acc: 0.9806\n",
            "Epoch 5/10\n",
            "60000/60000 [==============================] - 7s 112us/step - loss: 0.0070 - acc: 0.9981 - val_loss: 0.1231 - val_acc: 0.9828\n",
            "Epoch 6/10\n",
            "60000/60000 [==============================] - 7s 112us/step - loss: 0.0057 - acc: 0.9983 - val_loss: 0.1269 - val_acc: 0.9831\n",
            "Epoch 7/10\n",
            "60000/60000 [==============================] - 7s 113us/step - loss: 0.0053 - acc: 0.9986 - val_loss: 0.1316 - val_acc: 0.9807\n",
            "Epoch 8/10\n",
            "60000/60000 [==============================] - 7s 113us/step - loss: 0.0058 - acc: 0.9984 - val_loss: 0.1396 - val_acc: 0.9815\n",
            "Epoch 9/10\n",
            "60000/60000 [==============================] - 7s 113us/step - loss: 0.0051 - acc: 0.9986 - val_loss: 0.1351 - val_acc: 0.9833\n",
            "Epoch 10/10\n",
            "60000/60000 [==============================] - 7s 114us/step - loss: 0.0052 - acc: 0.9986 - val_loss: 0.1473 - val_acc: 0.9814\n"
          ],
          "name": "stdout"
        }
      ]
    },
    {
      "cell_type": "code",
      "metadata": {
        "id": "PFhm8Wdw63m_",
        "colab_type": "code",
        "outputId": "ccd2a78a-b61d-4fbb-c8da-aead362ef913",
        "colab": {
          "base_uri": "https://localhost:8080/",
          "height": 573
        }
      },
      "source": [
        "# Plot training & validation accuracy values\n",
        "import matplotlib.pyplot as plt\n",
        "plt.plot(history.history['acc'])\n",
        "plt.plot(history.history['val_acc'])\n",
        "plt.title('Model accuracy')\n",
        "plt.ylabel('Accuracy')\n",
        "plt.xlabel('Epoch')\n",
        "plt.legend(['Train', 'Test'], loc='upper left')\n",
        "plt.show()\n",
        "\n",
        "# Plot training & validation loss values\n",
        "plt.plot(history.history['loss'])\n",
        "plt.plot(history.history['val_loss'])\n",
        "plt.title('Model loss')\n",
        "plt.ylabel('Loss')\n",
        "plt.xlabel('Epoch')\n",
        "plt.legend(['Train', 'Test'], loc='upper left')\n",
        "plt.show()"
      ],
      "execution_count": 0,
      "outputs": [
        {
          "output_type": "display_data",
          "data": {
            "image/png": "[encoded data removed]",
            "text/plain": [
              "<Figure size 432x288 with 1 Axes>"
            ]
          },
          "metadata": {
            "tags": []
          }
        },
        {
          "output_type": "display_data",
          "data": {
            "image/png": "[encoded data removed]",
            "text/plain": [
              "<Figure size 432x288 with 1 Axes>"
            ]
          },
          "metadata": {
            "tags": []
          }
        }
      ]
    },
    {
      "cell_type": "markdown",
      "metadata": {
        "id": "QqoGjfN27dDG",
        "colab_type": "text"
      },
      "source": [
        "Task 7 - model summary\n",
        "\n"
      ]
    },
    {
      "cell_type": "code",
      "metadata": {
        "id": "ZRPIgcef63kG",
        "colab_type": "code",
        "outputId": "2798df5d-eee9-43b3-9921-12afd9d4db36",
        "colab": {
          "base_uri": "https://localhost:8080/",
          "height": 255
        }
      },
      "source": [
        "#Model Summary\n",
        "model.summary()"
      ],
      "execution_count": 0,
      "outputs": [
        {
          "output_type": "stream",
          "text": [
            "Model: \"sequential_1\"\n",
            "_________________________________________________________________\n",
            "Layer (type)                 Output Shape              Param #   \n",
            "=================================================================\n",
            "dense_1 (Dense)              (None, 512)               401920    \n",
            "_________________________________________________________________\n",
            "dense_2 (Dense)              (None, 256)               131328    \n",
            "_________________________________________________________________\n",
            "dense_3 (Dense)              (None, 10)                2570      \n",
            "=================================================================\n",
            "Total params: 535,818\n",
            "Trainable params: 535,818\n",
            "Non-trainable params: 0\n",
            "_________________________________________________________________\n"
          ],
          "name": "stdout"
        }
      ]
    },
    {
      "cell_type": "code",
      "metadata": {
        "id": "rTpjudVZ63gk",
        "colab_type": "code",
        "outputId": "1e3e9a7f-bdc7-4d66-e737-5082decb5ceb",
        "colab": {
          "base_uri": "https://localhost:8080/",
          "height": 490
        }
      },
      "source": [
        "+from IPython.display import SVG\n",
        "from keras.utils.vis_utils import model_to_dot\n",
        "# Output network visualization\n",
        "SVG(model_to_dot(model).create(prog='dot', format='svg'))"
      ],
      "execution_count": 0,
      "outputs": [
        {
          "output_type": "execute_result",
          "data": {
            "text/plain": [
              "<IPython.core.display.SVG object>"
            ],
            "image/svg+xml": "<svg height=\"352pt\" viewBox=\"0.00 0.00 181.00 264.00\" width=\"241pt\" xmlns=\"http://www.w3.org/2000/svg\" xmlns:xlink=\"http://www.w3.org/1999/xlink\">\n<g class=\"graph\" id=\"graph0\" transform=\"scale(1.3333 1.3333) rotate(0) translate(4 260)\">\n<title>G</title>\n<polygon fill=\"#ffffff\" points=\"-4,4 -4,-260 177,-260 177,4 -4,4\" stroke=\"transparent\"/>\n<!-- 140275010185872 -->\n<g class=\"node\" id=\"node1\">\n<title>140275010185872</title>\n<polygon fill=\"none\" points=\"0,-219.5 0,-255.5 173,-255.5 173,-219.5 0,-219.5\" stroke=\"#000000\"/>\n<text fill=\"#000000\" font-family=\"Times,serif\" font-size=\"14.00\" text-anchor=\"middle\" x=\"86.5\" y=\"-233.8\">dense_1_input: InputLayer</text>\n</g>\n<!-- 140276544970648 -->\n<g class=\"node\" id=\"node2\">\n<title>140276544970648</title>\n<polygon fill=\"none\" points=\"33,-146.5 33,-182.5 140,-182.5 140,-146.5 33,-146.5\" stroke=\"#000000\"/>\n<text fill=\"#000000\" font-family=\"Times,serif\" font-size=\"14.00\" text-anchor=\"middle\" x=\"86.5\" y=\"-160.8\">dense_1: Dense</text>\n</g>\n<!-- 140275010185872&#45;&gt;140276544970648 -->\n<g class=\"edge\" id=\"edge1\">\n<title>140275010185872-&gt;140276544970648</title>\n<path d=\"M86.5,-219.4551C86.5,-211.3828 86.5,-201.6764 86.5,-192.6817\" fill=\"none\" stroke=\"#000000\"/>\n<polygon fill=\"#000000\" points=\"90.0001,-192.5903 86.5,-182.5904 83.0001,-192.5904 90.0001,-192.5903\" stroke=\"#000000\"/>\n</g>\n<!-- 140275010184248 -->\n<g class=\"node\" id=\"node3\">\n<title>140275010184248</title>\n<polygon fill=\"none\" points=\"33,-73.5 33,-109.5 140,-109.5 140,-73.5 33,-73.5\" stroke=\"#000000\"/>\n<text fill=\"#000000\" font-family=\"Times,serif\" font-size=\"14.00\" text-anchor=\"middle\" x=\"86.5\" y=\"-87.8\">dense_2: Dense</text>\n</g>\n<!-- 140276544970648&#45;&gt;140275010184248 -->\n<g class=\"edge\" id=\"edge2\">\n<title>140276544970648-&gt;140275010184248</title>\n<path d=\"M86.5,-146.4551C86.5,-138.3828 86.5,-128.6764 86.5,-119.6817\" fill=\"none\" stroke=\"#000000\"/>\n<polygon fill=\"#000000\" points=\"90.0001,-119.5903 86.5,-109.5904 83.0001,-119.5904 90.0001,-119.5903\" stroke=\"#000000\"/>\n</g>\n<!-- 140274997165192 -->\n<g class=\"node\" id=\"node4\">\n<title>140274997165192</title>\n<polygon fill=\"none\" points=\"33,-.5 33,-36.5 140,-36.5 140,-.5 33,-.5\" stroke=\"#000000\"/>\n<text fill=\"#000000\" font-family=\"Times,serif\" font-size=\"14.00\" text-anchor=\"middle\" x=\"86.5\" y=\"-14.8\">dense_3: Dense</text>\n</g>\n<!-- 140275010184248&#45;&gt;140274997165192 -->\n<g class=\"edge\" id=\"edge3\">\n<title>140275010184248-&gt;140274997165192</title>\n<path d=\"M86.5,-73.4551C86.5,-65.3828 86.5,-55.6764 86.5,-46.6817\" fill=\"none\" stroke=\"#000000\"/>\n<polygon fill=\"#000000\" points=\"90.0001,-46.5903 86.5,-36.5904 83.0001,-46.5904 90.0001,-46.5903\" stroke=\"#000000\"/>\n</g>\n</g>\n</svg>"
          },
          "metadata": {
            "tags": []
          },
          "execution_count": 8
        }
      ]
    }
  ]
}