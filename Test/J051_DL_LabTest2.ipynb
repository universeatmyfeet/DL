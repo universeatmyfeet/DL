{
  "nbformat": 4,
  "nbformat_minor": 0,
  "metadata": {
    "colab": {
      "name": "J051_DL_LabTest2.ipynb",
      "provenance": [],
      "collapsed_sections": [],
      "include_colab_link": true
    },
    "kernelspec": {
      "name": "python3",
      "display_name": "Python 3"
    },
    "accelerator": "GPU"
  },
  "cells": [
    {
      "cell_type": "markdown",
      "metadata": {
        "id": "view-in-github",
        "colab_type": "text"
      },
      "source": [
        "<a href=\"https://colab.research.google.com/github/universeatmyfeet/DL/blob/master/Test/J051_DL_LabTest2.ipynb\" target=\"_parent\"><img src=\"https://colab.research.google.com/assets/colab-badge.svg\" alt=\"Open In Colab\"/></a>"
      ]
    },
    {
      "cell_type": "markdown",
      "metadata": {
        "id": "BSDmZ_zHQSdp",
        "colab_type": "text"
      },
      "source": [
        "## J051 - Salonii Tari - DL test 2"
      ]
    },
    {
      "cell_type": "code",
      "metadata": {
        "id": "qjHVG-JiuQ18",
        "colab_type": "code",
        "colab": {}
      },
      "source": [
        "import numpy as np\n",
        "import cv2\n",
        "import PIL.Image\n",
        "import os\n",
        "import pandas as pd"
      ],
      "execution_count": 0,
      "outputs": []
    },
    {
      "cell_type": "code",
      "metadata": {
        "id": "-UX8qVaxdAFJ",
        "colab_type": "code",
        "outputId": "4263f05a-f80f-4c6b-d2ee-fb4289037c14",
        "colab": {
          "base_uri": "https://localhost:8080/",
          "height": 79
        }
      },
      "source": [
        "import warnings\n",
        "warnings.filterwarnings('always')\n",
        "warnings.filterwarnings('ignore')\n",
        "# to ignore  the warnings\n",
        "import numpy as np\n",
        "import pandas as pd\n",
        "import matplotlib.pyplot as plt\n",
        "from matplotlib import style\n",
        "import seaborn as sns\n",
        "%matplotlib inline  \n",
        "from sklearn.model_selection import train_test_split\n",
        "from sklearn.model_selection import KFold\n",
        "from sklearn.metrics import accuracy_score,precision_score,recall_score,confusion_matrix,roc_curve,roc_auc_score\n",
        "from sklearn.model_selection import GridSearchCV\n",
        "from sklearn.preprocessing import LabelEncoder\n",
        "from keras.preprocessing.image import ImageDataGenerator\n",
        "from keras import backend as K\n",
        "from keras.models import Sequential\n",
        "from keras.layers import Dense\n",
        "from keras.optimizers import Adam,SGD,Adagrad,Adadelta,RMSprop\n",
        "from keras.utils import to_categorical\n",
        "from keras.layers import Dropout, Flatten,Activation\n",
        "from keras.layers import Conv2D, MaxPooling2D, BatchNormalization\n",
        "import tensorflow as tf\n",
        "import random as rn\n",
        "import cv2                  \n",
        "import numpy as np  \n",
        "from tqdm import tqdm\n",
        "import os                   \n",
        "from random import shuffle  \n",
        "from zipfile import ZipFile\n",
        "from PIL import Image\n",
        "from skimage.io import imread, imsave\n",
        "style.use('fivethirtyeight')\n",
        "sns.set(style='whitegrid',color_codes=True)"
      ],
      "execution_count": 0,
      "outputs": [
        {
          "output_type": "stream",
          "text": [
            "Using TensorFlow backend.\n"
          ],
          "name": "stderr"
        },
        {
          "output_type": "display_data",
          "data": {
            "text/html": [
              "<p style=\"color: red;\">\n",
              "The default version of TensorFlow in Colab will soon switch to TensorFlow 2.x.<br>\n",
              "We recommend you <a href=\"https://www.tensorflow.org/guide/migrate\" target=\"_blank\">upgrade</a> now \n",
              "or ensure your notebook will continue to use TensorFlow 1.x via the <code>%tensorflow_version 1.x</code> magic:\n",
              "<a href=\"https://colab.research.google.com/notebooks/tensorflow_version.ipynb\" target=\"_blank\">more info</a>.</p>\n"
            ],
            "text/plain": [
              "<IPython.core.display.HTML object>"
            ]
          },
          "metadata": {
            "tags": []
          }
        }
      ]
    },
    {
      "cell_type": "code",
      "metadata": {
        "id": "2Abo8HijbnLT",
        "colab_type": "code",
        "colab": {}
      },
      "source": [
        "from google.colab import drive\n",
        "drive.mount('/content/drive')"
      ],
      "execution_count": 0,
      "outputs": []
    },
    {
      "cell_type": "code",
      "metadata": {
        "id": "5eG5Uvr_whip",
        "colab_type": "code",
        "colab": {}
      },
      "source": [
        "!unzip \"/content/drive/My Drive/UCMerced_LandUse.zip\""
      ],
      "execution_count": 0,
      "outputs": []
    },
    {
      "cell_type": "code",
      "metadata": {
        "id": "HuLQKucgxHBT",
        "colab_type": "code",
        "colab": {}
      },
      "source": [
        "x=[]\n",
        "z=[]\n",
        "img_size=150"
      ],
      "execution_count": 0,
      "outputs": []
    },
    {
      "cell_type": "code",
      "metadata": {
        "id": "lggLKT3NYta6",
        "colab_type": "code",
        "colab": {}
      },
      "source": [
        "AGRICULTURAL_DIR='/content/UCMerced_LandUse/Images/agricultural'\n",
        "AIRPLANE_DIR='/content/UCMerced_LandUse/Images/airplane'\n",
        "BASEBALLDIAMOND_DIR='/content/UCMerced_LandUse/Images/baseballdiamond'\n",
        "BEACH_DIR='/content/UCMerced_LandUse/Images/beach'\n",
        "BUILDINGS_DIR='/content/UCMerced_LandUse/Images/buildings'\n",
        "CHAPARRAL_DIR='/content/UCMerced_LandUse/Images/chaparral'\n",
        "DENSERESIDENTIAL_DIR='/content/UCMerced_LandUse/Images/denseresidential'\n",
        "FOREST_DIR='/content/UCMerced_LandUse/Images/forest'\n",
        "FREEWAY_DIR='/content/UCMerced_LandUse/Images/freeway'\n",
        "GOLFCOURSE_DIR='/content/UCMerced_LandUse/Images/golfcourse'\n",
        "HARBOR_DIR='/content/UCMerced_LandUse/Images/harbor'\n",
        "INTERSECTION_DIR='/content/UCMerced_LandUse/Images/intersection'\n",
        "MEDIUMRESIDENTIAL_DIR='/content/UCMerced_LandUse/Images/mediumresidential'\n",
        "MOBILEHOMEPARK_DIR='/content/UCMerced_LandUse/Images/mobilehomepark'\n",
        "OVERPASS_DIR='/content/UCMerced_LandUse/Images/overpass'\n",
        "PARKINGLOT_DIR='/content/UCMerced_LandUse/Images/parkinglot'\n",
        "RIVER_DIR='/content/UCMerced_LandUse/Images/river'\n",
        "RUNWAY_DIR='/content/UCMerced_LandUse/Images/runway'\n",
        "SPARSERESIDENTIAL_DIR='/content/UCMerced_LandUse/Images/sparseresidential'\n",
        "STORAGETANKS_DIR='/content/UCMerced_LandUse/Images/storagetanks'\n",
        "TENNISCOURT_DIR='/content/UCMerced_LandUse/Images/tenniscourt'"
      ],
      "execution_count": 0,
      "outputs": []
    },
    {
      "cell_type": "code",
      "metadata": {
        "id": "CMXj4pBCQkyb",
        "colab_type": "code",
        "outputId": "2df43bfb-36b6-4d3b-fb98-eb7959bd4a68",
        "colab": {
          "base_uri": "https://localhost:8080/",
          "height": 178
        }
      },
      "source": [
        "plt.imshow(imread('/content/UCMerced_LandUse/Images/airplane/airplane00.tif'))\n",
        "plt.show()"
      ],
      "execution_count": 0,
      "outputs": [
        {
          "output_type": "error",
          "ename": "NameError",
          "evalue": "ignored",
          "traceback": [
            "\u001b[0;31m---------------------------------------------------------------------------\u001b[0m",
            "\u001b[0;31mNameError\u001b[0m                                 Traceback (most recent call last)",
            "\u001b[0;32m<ipython-input-44-16f2f0d90b1f>\u001b[0m in \u001b[0;36m<module>\u001b[0;34m()\u001b[0m\n\u001b[0;32m----> 1\u001b[0;31m \u001b[0mplt\u001b[0m\u001b[0;34m.\u001b[0m\u001b[0mimshow\u001b[0m\u001b[0;34m(\u001b[0m\u001b[0mimread\u001b[0m\u001b[0;34m(\u001b[0m\u001b[0;34m'/content/UCMerced_LandUse/Images/airplane/airplane00.tif'\u001b[0m\u001b[0;34m)\u001b[0m\u001b[0;34m)\u001b[0m\u001b[0;34m\u001b[0m\u001b[0;34m\u001b[0m\u001b[0m\n\u001b[0m\u001b[1;32m      2\u001b[0m \u001b[0mplt\u001b[0m\u001b[0;34m.\u001b[0m\u001b[0mshow\u001b[0m\u001b[0;34m(\u001b[0m\u001b[0;34m)\u001b[0m\u001b[0;34m\u001b[0m\u001b[0;34m\u001b[0m\u001b[0m\n",
            "\u001b[0;31mNameError\u001b[0m: name 'imread' is not defined"
          ]
        }
      ]
    },
    {
      "cell_type": "code",
      "metadata": {
        "id": "ZFSPO2qb11IA",
        "colab_type": "code",
        "colab": {}
      },
      "source": [
        "def give_label(img,image_type):\n",
        "    return image_type"
      ],
      "execution_count": 0,
      "outputs": []
    },
    {
      "cell_type": "code",
      "metadata": {
        "id": "JLS8qe4P2ezQ",
        "colab_type": "code",
        "colab": {}
      },
      "source": [
        "def make_train_data(image_type,DIR):\n",
        "    for img in tqdm(os.listdir(DIR)):\n",
        "        label= give_label(img,image_type)\n",
        "        path = os.path.join(DIR,img)\n",
        "        img = cv2.imread(path,cv2.IMREAD_COLOR)\n",
        "        img = cv2.resize(img, (img_size,img_size))\n",
        "        \n",
        "        x.append(np.array(img))\n",
        "        z.append(str(label))"
      ],
      "execution_count": 0,
      "outputs": []
    },
    {
      "cell_type": "code",
      "metadata": {
        "id": "lq5srWWq3GZ8",
        "colab_type": "code",
        "colab": {}
      },
      "source": [
        "from tqdm import tqdm"
      ],
      "execution_count": 0,
      "outputs": []
    },
    {
      "cell_type": "code",
      "metadata": {
        "id": "8vc82Ul03WA3",
        "colab_type": "code",
        "outputId": "0034bee4-b7b7-4344-952a-d8e4e3230f35",
        "colab": {
          "base_uri": "https://localhost:8080/",
          "height": 50
        }
      },
      "source": [
        "make_train_data('Agricultural',AGRICULTURAL_DIR)\n",
        "print(len(x))"
      ],
      "execution_count": 0,
      "outputs": [
        {
          "output_type": "stream",
          "text": [
            "100%|██████████| 100/100 [00:00<00:00, 1113.51it/s]"
          ],
          "name": "stderr"
        },
        {
          "output_type": "stream",
          "text": [
            "100\n"
          ],
          "name": "stdout"
        },
        {
          "output_type": "stream",
          "text": [
            "\n"
          ],
          "name": "stderr"
        }
      ]
    },
    {
      "cell_type": "code",
      "metadata": {
        "id": "a3L3F5_m3zgs",
        "colab_type": "code",
        "outputId": "a2cc02f1-c8a5-4bc9-e6cf-9591756817fd",
        "colab": {
          "base_uri": "https://localhost:8080/",
          "height": 50
        }
      },
      "source": [
        "make_train_data('Airplane',AIRPLANE_DIR)\n",
        "print(len(x))"
      ],
      "execution_count": 0,
      "outputs": [
        {
          "output_type": "stream",
          "text": [
            "100%|██████████| 100/100 [00:00<00:00, 1558.38it/s]"
          ],
          "name": "stderr"
        },
        {
          "output_type": "stream",
          "text": [
            "200\n"
          ],
          "name": "stdout"
        },
        {
          "output_type": "stream",
          "text": [
            "\n"
          ],
          "name": "stderr"
        }
      ]
    },
    {
      "cell_type": "code",
      "metadata": {
        "id": "b3R8IBGq4Rtz",
        "colab_type": "code",
        "outputId": "4c5618d0-6007-4301-ec3b-84be4f7b072f",
        "colab": {
          "base_uri": "https://localhost:8080/",
          "height": 50
        }
      },
      "source": [
        "make_train_data('Baseball Diamond',BASEBALLDIAMOND_DIR)\n",
        "print(len(x))"
      ],
      "execution_count": 0,
      "outputs": [
        {
          "output_type": "stream",
          "text": [
            "100%|██████████| 100/100 [00:00<00:00, 1699.69it/s]"
          ],
          "name": "stderr"
        },
        {
          "output_type": "stream",
          "text": [
            "300\n"
          ],
          "name": "stdout"
        },
        {
          "output_type": "stream",
          "text": [
            "\n"
          ],
          "name": "stderr"
        }
      ]
    },
    {
      "cell_type": "code",
      "metadata": {
        "id": "B3unAfCd4muh",
        "colab_type": "code",
        "outputId": "92bd1157-8d03-4db3-fa84-2048128c6a2a",
        "colab": {
          "base_uri": "https://localhost:8080/",
          "height": 50
        }
      },
      "source": [
        "make_train_data('Beach',BEACH_DIR)\n",
        "print(len(x))"
      ],
      "execution_count": 0,
      "outputs": [
        {
          "output_type": "stream",
          "text": [
            "100%|██████████| 100/100 [00:00<00:00, 1758.98it/s]"
          ],
          "name": "stderr"
        },
        {
          "output_type": "stream",
          "text": [
            "400\n"
          ],
          "name": "stdout"
        },
        {
          "output_type": "stream",
          "text": [
            "\n"
          ],
          "name": "stderr"
        }
      ]
    },
    {
      "cell_type": "code",
      "metadata": {
        "id": "BhZWUxFA485J",
        "colab_type": "code",
        "outputId": "a8da39d9-d217-4654-f221-90d96227bb0a",
        "colab": {
          "base_uri": "https://localhost:8080/",
          "height": 50
        }
      },
      "source": [
        "make_train_data('Buildings',BUILDINGS_DIR)\n",
        "print(len(x))"
      ],
      "execution_count": 0,
      "outputs": [
        {
          "output_type": "stream",
          "text": [
            "100%|██████████| 100/100 [00:00<00:00, 1541.86it/s]"
          ],
          "name": "stderr"
        },
        {
          "output_type": "stream",
          "text": [
            "500\n"
          ],
          "name": "stdout"
        },
        {
          "output_type": "stream",
          "text": [
            "\n"
          ],
          "name": "stderr"
        }
      ]
    },
    {
      "cell_type": "code",
      "metadata": {
        "id": "yAegSUFw5I3v",
        "colab_type": "code",
        "outputId": "9b93b81a-edc6-4885-8195-ae4e17995dcb",
        "colab": {
          "base_uri": "https://localhost:8080/",
          "height": 50
        }
      },
      "source": [
        "make_train_data('Chaparral',CHAPARRAL_DIR)\n",
        "print(len(x))"
      ],
      "execution_count": 0,
      "outputs": [
        {
          "output_type": "stream",
          "text": [
            "100%|██████████| 100/100 [00:00<00:00, 1774.39it/s]"
          ],
          "name": "stderr"
        },
        {
          "output_type": "stream",
          "text": [
            "600\n"
          ],
          "name": "stdout"
        },
        {
          "output_type": "stream",
          "text": [
            "\n"
          ],
          "name": "stderr"
        }
      ]
    },
    {
      "cell_type": "code",
      "metadata": {
        "id": "euLKiyCp5Rdr",
        "colab_type": "code",
        "outputId": "ad07fe91-efea-43d5-9581-0a041ff2970b",
        "colab": {
          "base_uri": "https://localhost:8080/",
          "height": 50
        }
      },
      "source": [
        "make_train_data('Dense Residential',DENSERESIDENTIAL_DIR)\n",
        "print(len(x))"
      ],
      "execution_count": 0,
      "outputs": [
        {
          "output_type": "stream",
          "text": [
            "100%|██████████| 100/100 [00:00<00:00, 1775.94it/s]"
          ],
          "name": "stderr"
        },
        {
          "output_type": "stream",
          "text": [
            "700\n"
          ],
          "name": "stdout"
        },
        {
          "output_type": "stream",
          "text": [
            "\n"
          ],
          "name": "stderr"
        }
      ]
    },
    {
      "cell_type": "code",
      "metadata": {
        "id": "wydWEDFY5aEo",
        "colab_type": "code",
        "outputId": "6e293207-1ba7-4737-861a-2279be6830eb",
        "colab": {
          "base_uri": "https://localhost:8080/",
          "height": 50
        }
      },
      "source": [
        "make_train_data('Forest',FOREST_DIR)\n",
        "print(len(x))"
      ],
      "execution_count": 0,
      "outputs": [
        {
          "output_type": "stream",
          "text": [
            "100%|██████████| 100/100 [00:00<00:00, 1731.18it/s]"
          ],
          "name": "stderr"
        },
        {
          "output_type": "stream",
          "text": [
            "800\n"
          ],
          "name": "stdout"
        },
        {
          "output_type": "stream",
          "text": [
            "\n"
          ],
          "name": "stderr"
        }
      ]
    },
    {
      "cell_type": "code",
      "metadata": {
        "id": "gNBrweKz5gFo",
        "colab_type": "code",
        "outputId": "24e46875-0958-489c-ab6e-5ee28c087087",
        "colab": {
          "base_uri": "https://localhost:8080/",
          "height": 50
        }
      },
      "source": [
        "make_train_data('Freeway',FREEWAY_DIR)\n",
        "print(len(x))"
      ],
      "execution_count": 0,
      "outputs": [
        {
          "output_type": "stream",
          "text": [
            "100%|██████████| 100/100 [00:00<00:00, 1782.53it/s]"
          ],
          "name": "stderr"
        },
        {
          "output_type": "stream",
          "text": [
            "900\n"
          ],
          "name": "stdout"
        },
        {
          "output_type": "stream",
          "text": [
            "\n"
          ],
          "name": "stderr"
        }
      ]
    },
    {
      "cell_type": "code",
      "metadata": {
        "id": "uDlFsh6V523n",
        "colab_type": "code",
        "outputId": "3c3642cc-7731-4e6c-cff4-0f324b0a2c6b",
        "colab": {
          "base_uri": "https://localhost:8080/",
          "height": 50
        }
      },
      "source": [
        "make_train_data('Golf Course',GOLFCOURSE_DIR)\n",
        "print(len(x))"
      ],
      "execution_count": 0,
      "outputs": [
        {
          "output_type": "stream",
          "text": [
            "100%|██████████| 100/100 [00:00<00:00, 1732.80it/s]"
          ],
          "name": "stderr"
        },
        {
          "output_type": "stream",
          "text": [
            "1000\n"
          ],
          "name": "stdout"
        },
        {
          "output_type": "stream",
          "text": [
            "\n"
          ],
          "name": "stderr"
        }
      ]
    },
    {
      "cell_type": "code",
      "metadata": {
        "id": "lKy8qaGr6QZ6",
        "colab_type": "code",
        "outputId": "c19673e1-22e6-4798-9f93-9e91e5f48ee1",
        "colab": {
          "base_uri": "https://localhost:8080/",
          "height": 50
        }
      },
      "source": [
        "make_train_data('Harbor',HARBOR_DIR)\n",
        "print(len(x))"
      ],
      "execution_count": 0,
      "outputs": [
        {
          "output_type": "stream",
          "text": [
            "100%|██████████| 100/100 [00:00<00:00, 1749.62it/s]"
          ],
          "name": "stderr"
        },
        {
          "output_type": "stream",
          "text": [
            "1100\n"
          ],
          "name": "stdout"
        },
        {
          "output_type": "stream",
          "text": [
            "\n"
          ],
          "name": "stderr"
        }
      ]
    },
    {
      "cell_type": "code",
      "metadata": {
        "id": "4OuQh43W6Ugo",
        "colab_type": "code",
        "outputId": "37cb73bc-5a09-4167-ceef-d783406bcd65",
        "colab": {
          "base_uri": "https://localhost:8080/",
          "height": 50
        }
      },
      "source": [
        "make_train_data('Intersection',INTERSECTION_DIR)\n",
        "print(len(x))"
      ],
      "execution_count": 0,
      "outputs": [
        {
          "output_type": "stream",
          "text": [
            "100%|██████████| 100/100 [00:00<00:00, 1783.47it/s]\n"
          ],
          "name": "stderr"
        },
        {
          "output_type": "stream",
          "text": [
            "1200\n"
          ],
          "name": "stdout"
        }
      ]
    },
    {
      "cell_type": "code",
      "metadata": {
        "id": "y8KvC4_c6YYM",
        "colab_type": "code",
        "outputId": "421a6098-7e91-4bd9-d324-3304d8d3ec15",
        "colab": {
          "base_uri": "https://localhost:8080/",
          "height": 50
        }
      },
      "source": [
        "make_train_data('Medium Residential',MEDIUMRESIDENTIAL_DIR)\n",
        "print(len(x))"
      ],
      "execution_count": 0,
      "outputs": [
        {
          "output_type": "stream",
          "text": [
            "100%|██████████| 100/100 [00:00<00:00, 1700.29it/s]"
          ],
          "name": "stderr"
        },
        {
          "output_type": "stream",
          "text": [
            "1300\n"
          ],
          "name": "stdout"
        },
        {
          "output_type": "stream",
          "text": [
            "\n"
          ],
          "name": "stderr"
        }
      ]
    },
    {
      "cell_type": "code",
      "metadata": {
        "id": "S2nw9V2p6hS2",
        "colab_type": "code",
        "outputId": "953d9fbc-4b26-41d6-d27b-5438a0eeab47",
        "colab": {
          "base_uri": "https://localhost:8080/",
          "height": 50
        }
      },
      "source": [
        "make_train_data('Mobile Home Park',MOBILEHOMEPARK_DIR)\n",
        "print(len(x))"
      ],
      "execution_count": 0,
      "outputs": [
        {
          "output_type": "stream",
          "text": [
            "100%|██████████| 100/100 [00:00<00:00, 1760.43it/s]"
          ],
          "name": "stderr"
        },
        {
          "output_type": "stream",
          "text": [
            "1400\n"
          ],
          "name": "stdout"
        },
        {
          "output_type": "stream",
          "text": [
            "\n"
          ],
          "name": "stderr"
        }
      ]
    },
    {
      "cell_type": "code",
      "metadata": {
        "id": "a9Te0hf16mac",
        "colab_type": "code",
        "outputId": "0f08d50e-4c89-4c7f-d84a-5e5fc8f77c26",
        "colab": {
          "base_uri": "https://localhost:8080/",
          "height": 50
        }
      },
      "source": [
        "make_train_data('Overpass',OVERPASS_DIR)\n",
        "print(len(x))"
      ],
      "execution_count": 0,
      "outputs": [
        {
          "output_type": "stream",
          "text": [
            "100%|██████████| 100/100 [00:00<00:00, 1722.29it/s]"
          ],
          "name": "stderr"
        },
        {
          "output_type": "stream",
          "text": [
            "1500\n"
          ],
          "name": "stdout"
        },
        {
          "output_type": "stream",
          "text": [
            "\n"
          ],
          "name": "stderr"
        }
      ]
    },
    {
      "cell_type": "code",
      "metadata": {
        "id": "Ya8NkMXn6q_q",
        "colab_type": "code",
        "outputId": "6bad6874-7a5d-433b-882d-3dc99eb9333b",
        "colab": {
          "base_uri": "https://localhost:8080/",
          "height": 50
        }
      },
      "source": [
        "make_train_data('Parking Lot',PARKINGLOT_DIR)\n",
        "print(len(x))"
      ],
      "execution_count": 0,
      "outputs": [
        {
          "output_type": "stream",
          "text": [
            "100%|██████████| 100/100 [00:00<00:00, 1375.87it/s]"
          ],
          "name": "stderr"
        },
        {
          "output_type": "stream",
          "text": [
            "1600\n"
          ],
          "name": "stdout"
        },
        {
          "output_type": "stream",
          "text": [
            "\n"
          ],
          "name": "stderr"
        }
      ]
    },
    {
      "cell_type": "code",
      "metadata": {
        "id": "w0vgYsNv6vh7",
        "colab_type": "code",
        "outputId": "4e64528a-b02c-47cd-d150-dfd7de4f2ae7",
        "colab": {
          "base_uri": "https://localhost:8080/",
          "height": 50
        }
      },
      "source": [
        "make_train_data('River',RIVER_DIR)\n",
        "print(len(x))"
      ],
      "execution_count": 0,
      "outputs": [
        {
          "output_type": "stream",
          "text": [
            "100%|██████████| 100/100 [00:00<00:00, 1712.79it/s]"
          ],
          "name": "stderr"
        },
        {
          "output_type": "stream",
          "text": [
            "1700\n"
          ],
          "name": "stdout"
        },
        {
          "output_type": "stream",
          "text": [
            "\n"
          ],
          "name": "stderr"
        }
      ]
    },
    {
      "cell_type": "code",
      "metadata": {
        "id": "qth1aR2n6yxH",
        "colab_type": "code",
        "outputId": "f3f542a5-98d7-4159-8612-c6daf4f4c9b6",
        "colab": {
          "base_uri": "https://localhost:8080/",
          "height": 50
        }
      },
      "source": [
        "make_train_data('Runway',RUNWAY_DIR)\n",
        "print(len(x))"
      ],
      "execution_count": 0,
      "outputs": [
        {
          "output_type": "stream",
          "text": [
            "100%|██████████| 100/100 [00:00<00:00, 1715.76it/s]"
          ],
          "name": "stderr"
        },
        {
          "output_type": "stream",
          "text": [
            "1800\n"
          ],
          "name": "stdout"
        },
        {
          "output_type": "stream",
          "text": [
            "\n"
          ],
          "name": "stderr"
        }
      ]
    },
    {
      "cell_type": "code",
      "metadata": {
        "id": "hOaROVKw62Uv",
        "colab_type": "code",
        "outputId": "e6bb28c9-6235-40a8-b8af-713a5f3fa95a",
        "colab": {
          "base_uri": "https://localhost:8080/",
          "height": 50
        }
      },
      "source": [
        "make_train_data('Sparse Residential',SPARSERESIDENTIAL_DIR)\n",
        "print(len(x))"
      ],
      "execution_count": 0,
      "outputs": [
        {
          "output_type": "stream",
          "text": [
            "100%|██████████| 100/100 [00:00<00:00, 1631.68it/s]"
          ],
          "name": "stderr"
        },
        {
          "output_type": "stream",
          "text": [
            "1900\n"
          ],
          "name": "stdout"
        },
        {
          "output_type": "stream",
          "text": [
            "\n"
          ],
          "name": "stderr"
        }
      ]
    },
    {
      "cell_type": "code",
      "metadata": {
        "id": "TF0svR8E68nu",
        "colab_type": "code",
        "outputId": "6d7baaec-f294-473d-c1bb-beb6f35d38b7",
        "colab": {
          "base_uri": "https://localhost:8080/",
          "height": 50
        }
      },
      "source": [
        "make_train_data('Storage Tanks',STORAGETANKS_DIR)\n",
        "print(len(x))"
      ],
      "execution_count": 0,
      "outputs": [
        {
          "output_type": "stream",
          "text": [
            "100%|██████████| 100/100 [00:00<00:00, 1657.50it/s]"
          ],
          "name": "stderr"
        },
        {
          "output_type": "stream",
          "text": [
            "2000\n"
          ],
          "name": "stdout"
        },
        {
          "output_type": "stream",
          "text": [
            "\n"
          ],
          "name": "stderr"
        }
      ]
    },
    {
      "cell_type": "code",
      "metadata": {
        "id": "JSV0txY77A0I",
        "colab_type": "code",
        "outputId": "b5db880e-4762-4890-fa5e-931a44642770",
        "colab": {
          "base_uri": "https://localhost:8080/",
          "height": 50
        }
      },
      "source": [
        "make_train_data('Tennis Court',TENNISCOURT_DIR)\n",
        "print(len(x))"
      ],
      "execution_count": 0,
      "outputs": [
        {
          "output_type": "stream",
          "text": [
            "100%|██████████| 100/100 [00:00<00:00, 1753.78it/s]"
          ],
          "name": "stderr"
        },
        {
          "output_type": "stream",
          "text": [
            "2100\n"
          ],
          "name": "stdout"
        },
        {
          "output_type": "stream",
          "text": [
            "\n"
          ],
          "name": "stderr"
        }
      ]
    },
    {
      "cell_type": "code",
      "metadata": {
        "id": "2cxtFuBT7RIM",
        "colab_type": "code",
        "colab": {}
      },
      "source": [
        "le=LabelEncoder()\n",
        "\n",
        "y=le.fit_transform(z)\n",
        "y=to_categorical(y,21)\n",
        "\n",
        "x=np.array(x)\n",
        "x=x/255"
      ],
      "execution_count": 0,
      "outputs": []
    },
    {
      "cell_type": "code",
      "metadata": {
        "id": "3Tg4q_am7WzS",
        "colab_type": "code",
        "colab": {}
      },
      "source": [
        "X_train,X_test,y_train,y_test=train_test_split(x,y,test_size=0.25,random_state=42)"
      ],
      "execution_count": 0,
      "outputs": []
    },
    {
      "cell_type": "code",
      "metadata": {
        "id": "pay3MENg7bI6",
        "colab_type": "code",
        "colab": {}
      },
      "source": [
        "np.random.seed(42)\n",
        "rn.seed(42)\n",
        "tf.set_random_seed(42)"
      ],
      "execution_count": 0,
      "outputs": []
    },
    {
      "cell_type": "code",
      "metadata": {
        "id": "BKownrLe7ddE",
        "colab_type": "code",
        "outputId": "fe47df7f-0813-4eb8-a431-bdd33a0dbf9d",
        "colab": {
          "base_uri": "https://localhost:8080/",
          "height": 171
        }
      },
      "source": [
        "# Model with Data Augmentation\n",
        "\n",
        "model = Sequential()\n",
        "model.add(Conv2D(filters = 32, kernel_size = (5,5),padding = 'Same',activation ='relu', input_shape = (150,150,3)))\n",
        "model.add(MaxPooling2D(pool_size=(2,2)))\n",
        "\n",
        "\n",
        "model.add(Conv2D(filters = 64, kernel_size = (3,3),padding = 'Same',activation ='relu'))\n",
        "model.add(MaxPooling2D(pool_size=(2,2), strides=(2,2)))\n",
        " \n",
        "\n",
        "model.add(Conv2D(filters =96, kernel_size = (3,3),padding = 'Same',activation ='relu'))\n",
        "model.add(MaxPooling2D(pool_size=(2,2), strides=(2,2)))\n",
        "\n",
        "model.add(Conv2D(filters = 96, kernel_size = (3,3),padding = 'Same',activation ='relu'))\n",
        "model.add(MaxPooling2D(pool_size=(2,2), strides=(2,2)))\n",
        "\n",
        "model.add(Flatten())\n",
        "model.add(Dense(512))\n",
        "model.add(Activation('relu'))\n",
        "model.add(Dense(21, activation = \"softmax\"))"
      ],
      "execution_count": 0,
      "outputs": [
        {
          "output_type": "stream",
          "text": [
            "WARNING:tensorflow:From /usr/local/lib/python3.6/dist-packages/keras/backend/tensorflow_backend.py:66: The name tf.get_default_graph is deprecated. Please use tf.compat.v1.get_default_graph instead.\n",
            "\n",
            "WARNING:tensorflow:From /usr/local/lib/python3.6/dist-packages/keras/backend/tensorflow_backend.py:541: The name tf.placeholder is deprecated. Please use tf.compat.v1.placeholder instead.\n",
            "\n",
            "WARNING:tensorflow:From /usr/local/lib/python3.6/dist-packages/keras/backend/tensorflow_backend.py:4432: The name tf.random_uniform is deprecated. Please use tf.random.uniform instead.\n",
            "\n",
            "WARNING:tensorflow:From /usr/local/lib/python3.6/dist-packages/keras/backend/tensorflow_backend.py:4267: The name tf.nn.max_pool is deprecated. Please use tf.nn.max_pool2d instead.\n",
            "\n"
          ],
          "name": "stdout"
        }
      ]
    },
    {
      "cell_type": "code",
      "metadata": {
        "id": "i4dG4qjF7f7t",
        "colab_type": "code",
        "colab": {}
      },
      "source": [
        "batch_size=21\n",
        "epochs=40\n",
        "\n",
        "from keras.callbacks import ReduceLROnPlateau\n",
        "red_lr= ReduceLROnPlateau(monitor='val_acc',patience=3,verbose=1,factor=0.1)"
      ],
      "execution_count": 0,
      "outputs": []
    },
    {
      "cell_type": "code",
      "metadata": {
        "id": "vVjQErms7uMN",
        "colab_type": "code",
        "colab": {}
      },
      "source": [
        "datagen = ImageDataGenerator(\n",
        "        featurewise_center=False,  # set input mean to 0 over the dataset\n",
        "        samplewise_center=False,  # set each sample mean to 0\n",
        "        featurewise_std_normalization=False,  # divide inputs by std of the dataset\n",
        "        samplewise_std_normalization=False,  # divide each input by its std\n",
        "        zca_whitening=False,  # apply ZCA whitening\n",
        "        rotation_range=10,  # randomly rotate images in the range (degrees, 0 to 180)\n",
        "        zoom_range = 0.1, # Randomly zoom image \n",
        "        width_shift_range=0.2,  # randomly shift images horizontally (fraction of total width)\n",
        "        height_shift_range=0.2,  # randomly shift images vertically (fraction of total height)\n",
        "        horizontal_flip=True,  # randomly flip images\n",
        "        vertical_flip=False)  # randomly flip images\n",
        "\n",
        "datagen.fit(X_train)"
      ],
      "execution_count": 0,
      "outputs": []
    },
    {
      "cell_type": "code",
      "metadata": {
        "id": "d8vY0IX87woo",
        "colab_type": "code",
        "outputId": "672e5284-cd4a-4b2e-8aef-45bac12ee2f5",
        "colab": {
          "base_uri": "https://localhost:8080/",
          "height": 154
        }
      },
      "source": [
        "model.compile(optimizer=Adam(lr=0.001),loss='binary_crossentropy',metrics=['accuracy'])"
      ],
      "execution_count": 0,
      "outputs": [
        {
          "output_type": "stream",
          "text": [
            "WARNING:tensorflow:From /usr/local/lib/python3.6/dist-packages/keras/optimizers.py:793: The name tf.train.Optimizer is deprecated. Please use tf.compat.v1.train.Optimizer instead.\n",
            "\n",
            "WARNING:tensorflow:From /usr/local/lib/python3.6/dist-packages/keras/backend/tensorflow_backend.py:3657: The name tf.log is deprecated. Please use tf.math.log instead.\n",
            "\n",
            "WARNING:tensorflow:From /usr/local/lib/python3.6/dist-packages/tensorflow_core/python/ops/nn_impl.py:183: where (from tensorflow.python.ops.array_ops) is deprecated and will be removed in a future version.\n",
            "Instructions for updating:\n",
            "Use tf.where in 2.0, which has the same broadcast rule as np.where\n"
          ],
          "name": "stdout"
        }
      ]
    },
    {
      "cell_type": "code",
      "metadata": {
        "id": "N2b4PlsA70LG",
        "colab_type": "code",
        "outputId": "08ec56fb-52b5-4fd6-ea3a-c143c163485b",
        "colab": {
          "base_uri": "https://localhost:8080/",
          "height": 554
        }
      },
      "source": [
        "model.summary()"
      ],
      "execution_count": 0,
      "outputs": [
        {
          "output_type": "stream",
          "text": [
            "Model: \"sequential_1\"\n",
            "_________________________________________________________________\n",
            "Layer (type)                 Output Shape              Param #   \n",
            "=================================================================\n",
            "conv2d_1 (Conv2D)            (None, 150, 150, 32)      2432      \n",
            "_________________________________________________________________\n",
            "max_pooling2d_1 (MaxPooling2 (None, 75, 75, 32)        0         \n",
            "_________________________________________________________________\n",
            "conv2d_2 (Conv2D)            (None, 75, 75, 64)        18496     \n",
            "_________________________________________________________________\n",
            "max_pooling2d_2 (MaxPooling2 (None, 37, 37, 64)        0         \n",
            "_________________________________________________________________\n",
            "conv2d_3 (Conv2D)            (None, 37, 37, 96)        55392     \n",
            "_________________________________________________________________\n",
            "max_pooling2d_3 (MaxPooling2 (None, 18, 18, 96)        0         \n",
            "_________________________________________________________________\n",
            "conv2d_4 (Conv2D)            (None, 18, 18, 96)        83040     \n",
            "_________________________________________________________________\n",
            "max_pooling2d_4 (MaxPooling2 (None, 9, 9, 96)          0         \n",
            "_________________________________________________________________\n",
            "flatten_1 (Flatten)          (None, 7776)              0         \n",
            "_________________________________________________________________\n",
            "dense_1 (Dense)              (None, 512)               3981824   \n",
            "_________________________________________________________________\n",
            "activation_1 (Activation)    (None, 512)               0         \n",
            "_________________________________________________________________\n",
            "dense_2 (Dense)              (None, 21)                10773     \n",
            "=================================================================\n",
            "Total params: 4,151,957\n",
            "Trainable params: 4,151,957\n",
            "Non-trainable params: 0\n",
            "_________________________________________________________________\n"
          ],
          "name": "stdout"
        }
      ]
    },
    {
      "cell_type": "code",
      "metadata": {
        "id": "aEOVwB3s73uu",
        "colab_type": "code",
        "outputId": "86079277-3446-4eae-870b-7c0faaa0a4fe",
        "colab": {
          "base_uri": "https://localhost:8080/",
          "height": 1000
        }
      },
      "source": [
        "#fits the model on batches with real-time data augmentation\n",
        "History = model.fit_generator(datagen.flow(X_train,y_train, batch_size=batch_size),\n",
        "                              epochs = epochs, validation_data = (X_test,y_test), \n",
        "                              verbose = 1, steps_per_epoch=X_train.shape[0] // batch_size)\n"
      ],
      "execution_count": 0,
      "outputs": [
        {
          "output_type": "stream",
          "text": [
            "WARNING:tensorflow:From /usr/local/lib/python3.6/dist-packages/keras/backend/tensorflow_backend.py:1033: The name tf.assign_add is deprecated. Please use tf.compat.v1.assign_add instead.\n",
            "\n",
            "WARNING:tensorflow:From /usr/local/lib/python3.6/dist-packages/keras/backend/tensorflow_backend.py:1020: The name tf.assign is deprecated. Please use tf.compat.v1.assign instead.\n",
            "\n",
            "WARNING:tensorflow:From /usr/local/lib/python3.6/dist-packages/keras/backend/tensorflow_backend.py:3005: The name tf.Session is deprecated. Please use tf.compat.v1.Session instead.\n",
            "\n",
            "Epoch 1/40\n",
            "WARNING:tensorflow:From /usr/local/lib/python3.6/dist-packages/keras/backend/tensorflow_backend.py:190: The name tf.get_default_session is deprecated. Please use tf.compat.v1.get_default_session instead.\n",
            "\n",
            "WARNING:tensorflow:From /usr/local/lib/python3.6/dist-packages/keras/backend/tensorflow_backend.py:197: The name tf.ConfigProto is deprecated. Please use tf.compat.v1.ConfigProto instead.\n",
            "\n",
            "WARNING:tensorflow:From /usr/local/lib/python3.6/dist-packages/keras/backend/tensorflow_backend.py:207: The name tf.global_variables is deprecated. Please use tf.compat.v1.global_variables instead.\n",
            "\n",
            "WARNING:tensorflow:From /usr/local/lib/python3.6/dist-packages/keras/backend/tensorflow_backend.py:216: The name tf.is_variable_initialized is deprecated. Please use tf.compat.v1.is_variable_initialized instead.\n",
            "\n",
            "WARNING:tensorflow:From /usr/local/lib/python3.6/dist-packages/keras/backend/tensorflow_backend.py:223: The name tf.variables_initializer is deprecated. Please use tf.compat.v1.variables_initializer instead.\n",
            "\n",
            "75/75 [==============================] - 23s 306ms/step - loss: 0.1912 - acc: 0.9523 - val_loss: 0.1824 - val_acc: 0.9523\n",
            "Epoch 2/40\n",
            "75/75 [==============================] - 8s 105ms/step - loss: 0.1788 - acc: 0.9522 - val_loss: 0.1715 - val_acc: 0.9481\n",
            "Epoch 3/40\n",
            "75/75 [==============================] - 8s 101ms/step - loss: 0.1611 - acc: 0.9528 - val_loss: 0.1462 - val_acc: 0.9536\n",
            "Epoch 4/40\n",
            "75/75 [==============================] - 8s 104ms/step - loss: 0.1444 - acc: 0.9546 - val_loss: 0.1342 - val_acc: 0.9555\n",
            "Epoch 5/40\n",
            "75/75 [==============================] - 8s 105ms/step - loss: 0.1323 - acc: 0.9567 - val_loss: 0.1239 - val_acc: 0.9585\n",
            "Epoch 6/40\n",
            "75/75 [==============================] - 8s 104ms/step - loss: 0.1211 - acc: 0.9596 - val_loss: 0.1166 - val_acc: 0.9619\n",
            "Epoch 7/40\n",
            "75/75 [==============================] - 8s 104ms/step - loss: 0.1075 - acc: 0.9621 - val_loss: 0.0927 - val_acc: 0.9663\n",
            "Epoch 8/40\n",
            "75/75 [==============================] - 8s 102ms/step - loss: 0.1094 - acc: 0.9615 - val_loss: 0.0857 - val_acc: 0.9673\n",
            "Epoch 9/40\n",
            "75/75 [==============================] - 8s 102ms/step - loss: 0.0954 - acc: 0.9659 - val_loss: 0.0830 - val_acc: 0.9701\n",
            "Epoch 10/40\n",
            "75/75 [==============================] - 8s 105ms/step - loss: 0.0870 - acc: 0.9682 - val_loss: 0.0759 - val_acc: 0.9731\n",
            "Epoch 11/40\n",
            "75/75 [==============================] - 8s 102ms/step - loss: 0.0827 - acc: 0.9696 - val_loss: 0.0801 - val_acc: 0.9718\n",
            "Epoch 12/40\n",
            "75/75 [==============================] - 8s 105ms/step - loss: 0.0787 - acc: 0.9709 - val_loss: 0.0749 - val_acc: 0.9728\n",
            "Epoch 13/40\n",
            "75/75 [==============================] - 8s 105ms/step - loss: 0.0749 - acc: 0.9720 - val_loss: 0.0725 - val_acc: 0.9720\n",
            "Epoch 14/40\n",
            "75/75 [==============================] - 8s 104ms/step - loss: 0.0700 - acc: 0.9725 - val_loss: 0.0639 - val_acc: 0.9756\n",
            "Epoch 15/40\n",
            "75/75 [==============================] - 8s 104ms/step - loss: 0.0682 - acc: 0.9732 - val_loss: 0.0602 - val_acc: 0.9769\n",
            "Epoch 16/40\n",
            "75/75 [==============================] - 8s 102ms/step - loss: 0.0616 - acc: 0.9763 - val_loss: 0.0613 - val_acc: 0.9774\n",
            "Epoch 17/40\n",
            "75/75 [==============================] - 8s 104ms/step - loss: 0.0588 - acc: 0.9770 - val_loss: 0.0625 - val_acc: 0.9761\n",
            "Epoch 18/40\n",
            "75/75 [==============================] - 8s 104ms/step - loss: 0.0515 - acc: 0.9795 - val_loss: 0.0540 - val_acc: 0.9796\n",
            "Epoch 19/40\n",
            "75/75 [==============================] - 8s 102ms/step - loss: 0.0550 - acc: 0.9793 - val_loss: 0.0518 - val_acc: 0.9805\n",
            "Epoch 20/40\n",
            "75/75 [==============================] - 8s 107ms/step - loss: 0.0506 - acc: 0.9807 - val_loss: 0.0533 - val_acc: 0.9801\n",
            "Epoch 21/40\n",
            "75/75 [==============================] - 8s 103ms/step - loss: 0.0447 - acc: 0.9832 - val_loss: 0.0479 - val_acc: 0.9823\n",
            "Epoch 22/40\n",
            "75/75 [==============================] - 8s 101ms/step - loss: 0.0492 - acc: 0.9804 - val_loss: 0.0504 - val_acc: 0.9811\n",
            "Epoch 23/40\n",
            "75/75 [==============================] - 8s 105ms/step - loss: 0.0487 - acc: 0.9808 - val_loss: 0.0570 - val_acc: 0.9803\n",
            "Epoch 24/40\n",
            "75/75 [==============================] - 8s 103ms/step - loss: 0.0459 - acc: 0.9826 - val_loss: 0.0480 - val_acc: 0.9819\n",
            "Epoch 25/40\n",
            "75/75 [==============================] - 8s 104ms/step - loss: 0.0441 - acc: 0.9829 - val_loss: 0.0478 - val_acc: 0.9814\n",
            "Epoch 26/40\n",
            "75/75 [==============================] - 8s 104ms/step - loss: 0.0415 - acc: 0.9838 - val_loss: 0.0480 - val_acc: 0.9835\n",
            "Epoch 27/40\n",
            "75/75 [==============================] - 8s 104ms/step - loss: 0.0397 - acc: 0.9845 - val_loss: 0.0494 - val_acc: 0.9833\n",
            "Epoch 28/40\n",
            "75/75 [==============================] - 8s 105ms/step - loss: 0.0348 - acc: 0.9866 - val_loss: 0.0551 - val_acc: 0.9812\n",
            "Epoch 29/40\n",
            "75/75 [==============================] - 8s 103ms/step - loss: 0.0399 - acc: 0.9847 - val_loss: 0.0572 - val_acc: 0.9798\n",
            "Epoch 30/40\n",
            "75/75 [==============================] - 8s 102ms/step - loss: 0.0388 - acc: 0.9853 - val_loss: 0.0421 - val_acc: 0.9843\n",
            "Epoch 31/40\n",
            "75/75 [==============================] - 8s 104ms/step - loss: 0.0349 - acc: 0.9872 - val_loss: 0.0395 - val_acc: 0.9855\n",
            "Epoch 32/40\n",
            "75/75 [==============================] - 8s 102ms/step - loss: 0.0416 - acc: 0.9846 - val_loss: 0.0414 - val_acc: 0.9842\n",
            "Epoch 33/40\n",
            "75/75 [==============================] - 8s 104ms/step - loss: 0.0327 - acc: 0.9873 - val_loss: 0.0357 - val_acc: 0.9859\n",
            "Epoch 34/40\n",
            "75/75 [==============================] - 8s 102ms/step - loss: 0.0300 - acc: 0.9885 - val_loss: 0.0507 - val_acc: 0.9817\n",
            "Epoch 35/40\n",
            "75/75 [==============================] - 8s 104ms/step - loss: 0.0300 - acc: 0.9884 - val_loss: 0.0401 - val_acc: 0.9864\n",
            "Epoch 36/40\n",
            "75/75 [==============================] - 8s 104ms/step - loss: 0.0315 - acc: 0.9875 - val_loss: 0.0450 - val_acc: 0.9842\n",
            "Epoch 37/40\n",
            "75/75 [==============================] - 8s 102ms/step - loss: 0.0287 - acc: 0.9888 - val_loss: 0.0434 - val_acc: 0.9859\n",
            "Epoch 38/40\n",
            "75/75 [==============================] - 8s 105ms/step - loss: 0.0250 - acc: 0.9904 - val_loss: 0.0444 - val_acc: 0.9857\n",
            "Epoch 39/40\n",
            "75/75 [==============================] - 8s 102ms/step - loss: 0.0278 - acc: 0.9904 - val_loss: 0.0426 - val_acc: 0.9859\n",
            "Epoch 40/40\n",
            "75/75 [==============================] - 8s 103ms/step - loss: 0.0278 - acc: 0.9894 - val_loss: 0.0369 - val_acc: 0.9879\n"
          ],
          "name": "stdout"
        }
      ]
    },
    {
      "cell_type": "code",
      "metadata": {
        "id": "ZlWHmTsvd8OH",
        "colab_type": "code",
        "colab": {}
      },
      "source": [
        "# model.fit(X_train,y_train,epochs=epochs,batch_size=batch_size,validation_data = (X_test,y_test))"
      ],
      "execution_count": 0,
      "outputs": []
    },
    {
      "cell_type": "code",
      "metadata": {
        "id": "LcdiIJ6V7_K-",
        "colab_type": "code",
        "outputId": "12750f46-bbd9-478f-8077-891d9ca55d2d",
        "colab": {
          "base_uri": "https://localhost:8080/",
          "height": 317
        }
      },
      "source": [
        "#Loss vs Epoch\n",
        "plt.plot(History.history['loss'])\n",
        "plt.plot(History.history['val_loss'])\n",
        "plt.title('Model Loss')\n",
        "plt.ylabel('Loss')\n",
        "plt.xlabel('Epochs')\n",
        "plt.legend(['train', 'test'])\n",
        "plt.show()"
      ],
      "execution_count": 0,
      "outputs": [
        {
          "output_type": "display_data",
          "data": {
            "image/png": "[encoded data removed]",
            "text/plain": [
              "<Figure size 432x288 with 1 Axes>"
            ]
          },
          "metadata": {
            "tags": []
          }
        }
      ]
    },
    {
      "cell_type": "code",
      "metadata": {
        "id": "U684SvCN9fOL",
        "colab_type": "code",
        "outputId": "105b02ab-76cf-42fc-e2d0-0229c5554c22",
        "colab": {
          "base_uri": "https://localhost:8080/",
          "height": 317
        }
      },
      "source": [
        "#Accuracy vs Epoch\n",
        "plt.plot(History.history['acc'])\n",
        "plt.plot(History.history['val_acc'])\n",
        "plt.title('Model Accuracy')\n",
        "plt.ylabel('Accuracy')\n",
        "plt.xlabel('Epochs')\n",
        "plt.legend(['train', 'test'])\n",
        "plt.show()\n"
      ],
      "execution_count": 0,
      "outputs": [
        {
          "output_type": "display_data",
          "data": {
            "image/png": "[encoded data removed]",
            "text/plain": [
              "<Figure size 432x288 with 1 Axes>"
            ]
          },
          "metadata": {
            "tags": []
          }
        }
      ]
    },
    {
      "cell_type": "code",
      "metadata": {
        "id": "VphUbSil9jbX",
        "colab_type": "code",
        "outputId": "3612c673-0190-4541-fd22-cfbea45439f3",
        "colab": {
          "base_uri": "https://localhost:8080/",
          "height": 550
        }
      },
      "source": [
        "\n",
        "# Predict the values from the validation dataset\n",
        "y_pred = model.predict(X_test)\n",
        "# Convert predictions classes to one hot vectors \n",
        "y_pred_classes = np.argmax(y_pred,axis = 1) \n",
        "# Convert validation observations to one hot vectors\n",
        "y_true = np.argmax(y_test,axis = 1) \n",
        "# compute the confusion matrix\n",
        "conf_mtx = confusion_matrix(y_true, y_pred_classes) \n",
        "# plot the confusion matrix\n",
        "f,ax = plt.subplots(figsize=(8, 8))\n",
        "sns.heatmap(conf_mtx, annot=True, linewidths=0.01,linecolor=\"gray\", fmt= '.1f',ax=ax)\n",
        "plt.xlabel(\"Predicted Label\")\n",
        "plt.ylabel(\"True Label\")\n",
        "plt.title(\"Confusion Matrix\")\n",
        "plt.show()"
      ],
      "execution_count": 45,
      "outputs": [
        {
          "output_type": "display_data",
          "data": {
            "image/png": "[encoded data removed]",
            "text/plain": [
              "<Figure size 576x576 with 2 Axes>"
            ]
          },
          "metadata": {
            "tags": []
          }
        }
      ]
    },
    {
      "cell_type": "code",
      "metadata": {
        "id": "VYrT2EYbStYv",
        "colab_type": "code",
        "colab": {}
      },
      "source": [
        ""
      ],
      "execution_count": 0,
      "outputs": []
    }
  ]
}