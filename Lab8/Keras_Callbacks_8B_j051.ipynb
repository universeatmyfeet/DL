{
  "nbformat": 4,
  "nbformat_minor": 0,
  "metadata": {
    "colab": {
      "name": "Keras-Callbacks_8B_j051.ipynb",
      "provenance": [],
      "collapsed_sections": [],
      "include_colab_link": true
    },
    "kernelspec": {
      "name": "python3",
      "display_name": "Python 3"
    },
    "accelerator": "GPU"
  },
  "cells": [
    {
      "cell_type": "markdown",
      "metadata": {
        "id": "view-in-github",
        "colab_type": "text"
      },
      "source": [
        "<a href=\"https://colab.research.google.com/github/universeatmyfeet/DL/blob/master/Lab8/Keras_Callbacks_8B_j051.ipynb\" target=\"_parent\"><img src=\"https://colab.research.google.com/assets/colab-badge.svg\" alt=\"Open In Colab\"/></a>"
      ]
    },
    {
      "cell_type": "markdown",
      "metadata": {
        "id": "-1DzPAqft6mM",
        "colab_type": "text"
      },
      "source": [
        "#Callbacks\n",
        "\n",
        "Deep learning models can take hours, days or even weeks to train.\n",
        "\n",
        "If the run is stopped unexpectedly, you can lose a lot of work.\n",
        "\n",
        "In this post you will discover how you can check-point your deep learning models during training in Python using the Keras library."
      ]
    },
    {
      "cell_type": "code",
      "metadata": {
        "id": "9Qi36pHUtjWZ",
        "colab_type": "code",
        "colab": {}
      },
      "source": [
        "import keras\n",
        "from keras import models\n",
        "from keras.layers import Dense, Dropout\n",
        "from keras.utils import to_categorical\n",
        "from keras.datasets import mnist\n",
        "from keras.utils.vis_utils import model_to_dot\n",
        "from IPython.display import SVG\n",
        "from keras.callbacks import ModelCheckpoint\n",
        "\n",
        "NUM_ROWS = 28\n",
        "NUM_COLS = 28\n",
        "NUM_CLASSES = 10\n",
        "BATCH_SIZE = 128\n",
        "EPOCHS = 10\n",
        "\n",
        "# Load data\n",
        "(X_train, y_train), (X_test, y_test) = mnist.load_data()\n",
        "\n",
        "# Reshape data\n",
        "X_train = X_train.reshape((X_train.shape[0], NUM_ROWS * NUM_COLS))\n",
        "X_train = X_train.astype('float32') / 255\n",
        "X_test = X_test.reshape((X_test.shape[0], NUM_ROWS * NUM_COLS))\n",
        "X_test = X_test.astype('float32') / 255\n",
        "\n",
        "# Categorically encode labels\n",
        "y_train = to_categorical(y_train, NUM_CLASSES)\n",
        "y_test = to_categorical(y_test, NUM_CLASSES)\n",
        "\n",
        "\n",
        "# Build neural network\n",
        "model = models.Sequential()\n",
        "model.add(Dense(512, activation='elu', input_shape=(NUM_ROWS * NUM_COLS,)))\n",
        "model.add(Dense(256, activation='elu'))\n",
        "model.add(Dense(10, activation='softmax'))\n",
        "\n",
        "# Compile model\n",
        "model.compile(optimizer='rmsprop',\n",
        "              loss='categorical_crossentropy',\n",
        "              metrics=['accuracy'])\n",
        "\n",
        "\n",
        "\n",
        "# checkpoint\n",
        "filepath=\"weights-improvement-{epoch:02d}-{val_acc:.2f}.hdf5\"\n",
        "checkpoint = ModelCheckpoint(filepath, monitor='val_acc', verbose=1, save_best_only=True, mode='max')\n",
        "callbacks_list = [checkpoint]\n",
        "\n",
        "\n",
        "# Train model\n",
        "model.fit(X_train, y_train,\n",
        "          batch_size=BATCH_SIZE,\n",
        "          epochs=EPOCHS,\n",
        "          verbose=1,\n",
        "          validation_data=(X_test, y_test), callbacks=callbacks_list)\n",
        "\n",
        "\n"
      ],
      "execution_count": 0,
      "outputs": []
    },
    {
      "cell_type": "markdown",
      "metadata": {
        "id": "Jveut6hlv4vM",
        "colab_type": "text"
      },
      "source": [
        "#Create checkpoint for storing best model only\n",
        "\n",
        "A simpler check-point strategy is to save the model weights to the same file, if and only if the validation accuracy improves.\n",
        "\n",
        "This can be done easily using the same code from above and changing the output filename to be fixed (not include score or epoch information).\n",
        "\n",
        "In this case, model weights are written to the file “weights.best.hdf5” only if the classification accuracy of the model on the validation dataset improves over the best seen so far."
      ]
    },
    {
      "cell_type": "code",
      "metadata": {
        "id": "4SoNDAjwwAX5",
        "colab_type": "code",
        "colab": {}
      },
      "source": [
        "import keras\n",
        "from keras import models\n",
        "from keras.layers import Dense, Dropout\n",
        "from keras.utils import to_categorical\n",
        "from keras.datasets import mnist\n",
        "from keras.utils.vis_utils import model_to_dot\n",
        "from IPython.display import SVG\n",
        "from keras.callbacks import ModelCheckpoint\n",
        "\n",
        "NUM_ROWS = 28\n",
        "NUM_COLS = 28\n",
        "NUM_CLASSES = 10\n",
        "BATCH_SIZE = 128\n",
        "EPOCHS = 10\n",
        "\n",
        "# Load data\n",
        "(X_train, y_train), (X_test, y_test) = mnist.load_data()\n",
        "\n",
        "# Reshape data\n",
        "X_train = X_train.reshape((X_train.shape[0], NUM_ROWS * NUM_COLS))\n",
        "X_train = X_train.astype('float32') / 255\n",
        "X_test = X_test.reshape((X_test.shape[0], NUM_ROWS * NUM_COLS))\n",
        "X_test = X_test.astype('float32') / 255\n",
        "\n",
        "# Categorically encode labels\n",
        "y_train = to_categorical(y_train, NUM_CLASSES)\n",
        "y_test = to_categorical(y_test, NUM_CLASSES)\n",
        "\n",
        "\n",
        "# Build neural network\n",
        "model = models.Sequential()\n",
        "model.add(Dense(512, activation='elu', input_shape=(NUM_ROWS * NUM_COLS,)))\n",
        "model.add(Dense(256, activation='elu'))\n",
        "model.add(Dense(10, activation='softmax'))\n",
        "\n",
        "# Compile model\n",
        "model.compile(optimizer='rmsprop',\n",
        "              loss='categorical_crossentropy',\n",
        "              metrics=['accuracy'])\n",
        "\n",
        "\n",
        "\n",
        "# checkpoint\n",
        "filepath=\"weights.best.hdf5\"\n",
        "checkpoint = ModelCheckpoint(filepath, monitor='val_acc', verbose=1, save_best_only=True, mode='max')\n",
        "callbacks_list = [checkpoint]\n",
        "\n",
        "\n",
        "# Train model\n",
        "model.fit(X_train, y_train,\n",
        "          batch_size=BATCH_SIZE,\n",
        "          epochs=EPOCHS,\n",
        "          verbose=1,\n",
        "          validation_data=(X_test, y_test), callbacks=callbacks_list)\n",
        "\n",
        "\n"
      ],
      "execution_count": 0,
      "outputs": []
    },
    {
      "cell_type": "markdown",
      "metadata": {
        "id": "my7CaRnYwPsC",
        "colab_type": "text"
      },
      "source": [
        "#Loading a Check-Pointed Neural Network Model\n",
        "\n",
        "After the model is saved , we can use it to make predictions"
      ]
    },
    {
      "cell_type": "code",
      "metadata": {
        "id": "eyuYyP-XwhdP",
        "colab_type": "code",
        "colab": {}
      },
      "source": [
        "import numpy as np\n",
        "import keras\n",
        "from keras import models\n",
        "#Create new model\n",
        "model_new = models.Sequential()\n",
        "model_new.add(Dense(512, activation='elu', input_shape=(NUM_ROWS * NUM_COLS,)))\n",
        "model_new.add(Dense(256, activation='elu'))\n",
        "model_new.add(Dense(10, activation='softmax'))\n",
        "\n",
        "model_new.load_weights(\"weights.best.hdf5\")\n",
        "\n",
        "# Compile model\n",
        "model_new.compile(optimizer='rmsprop',\n",
        "              loss='categorical_crossentropy',\n",
        "              metrics=['accuracy'])\n",
        "\n",
        "X_total=np.concatenate((X_train,X_test))\n",
        "y_total=np.concatenate((y_train,y_test))\n",
        "\n",
        "scores = model_new.evaluate(X_total, y_total, verbose=0)\n",
        "print(\"%s: %.2f%%\" % (model_new.metrics_names[1], scores[1]*100))"
      ],
      "execution_count": 0,
      "outputs": []
    },
    {
      "cell_type": "markdown",
      "metadata": {
        "id": "mMNmXQvYz-O_",
        "colab_type": "text"
      },
      "source": [
        "#Thank you for completing this notebook\n"
      ]
    },
    {
      "cell_type": "markdown",
      "metadata": {
        "id": "AKYSuqxxRpOb",
        "colab_type": "text"
      },
      "source": [
        "**CIFAR 10**"
      ]
    },
    {
      "cell_type": "code",
      "metadata": {
        "id": "fTCHlGwMPU5a",
        "colab_type": "code",
        "outputId": "84d7ca62-84ee-4876-bf37-a9e534b51536",
        "colab": {
          "base_uri": "https://localhost:8080/",
          "height": 722
        }
      },
      "source": [
        "from keras.datasets import cifar10\n",
        "from keras.models import Sequential\n",
        "from keras.layers import Dense, Dropout, Activation, Flatten\n",
        "from keras.utils import to_categorical\n",
        "\n",
        "#import dataset\n",
        "(X_train, Y_train), (X_test, Y_test) = cifar10.load_data()\n",
        "\n",
        "#change shape from image to vector\n",
        "X_train = X_train.reshape(50000, 32 * 32 * 3)\n",
        "X_test = X_test.reshape(10000, 32 * 32 * 3)\n",
        "\n",
        "#preprocess\n",
        "X_train = X_train.astype('float32')\n",
        "X_test = X_test.astype('float32')\n",
        "X_train /= 255.0\n",
        "X_test /= 255.0\n",
        "\n",
        "#change labels from numeric to one hot encoded\n",
        "Y_train = to_categorical(Y_train, 10)\n",
        "Y_test =  to_categorical(Y_test, 10)\n",
        "\n",
        "#Model building\n",
        "model = Sequential()\n",
        "model.add(Dense(1024, input_shape=(3072, )))\n",
        "model.add(Activation('relu'))\n",
        "model.add(Dense(512))\n",
        "model.add(Activation('relu'))\n",
        "model.add(Dense(512))\n",
        "model.add(Activation('relu'))\n",
        "model.add(Dense(10))\n",
        "model.add(Activation('softmax'))\n",
        "\n",
        "\n",
        "# Compile model using above optimizer\n",
        "model.compile(optimizer='rmsprop',\n",
        "              loss='categorical_crossentropy',\n",
        "              metrics=['accuracy'])\n",
        "\n",
        "filepath=\"weights.best.hdf5\"\n",
        "checkpoint = ModelCheckpoint(filepath, monitor='val_acc', verbose=1, save_best_only=True, mode='max')\n",
        "callbacks_list = [checkpoint]\n",
        "\n",
        "model.fit(X_train, Y_train,\n",
        "          batch_size=BATCH_SIZE,\n",
        "          epochs=EPOCHS,\n",
        "          verbose=1,\n",
        "          validation_data=(X_test, Y_test), callbacks=callbacks_list)\n",
        "\n",
        "\n"
      ],
      "execution_count": 0,
      "outputs": [
        {
          "output_type": "stream",
          "text": [
            "Train on 50000 samples, validate on 10000 samples\n",
            "Epoch 1/10\n",
            "50000/50000 [==============================] - 3s 64us/step - loss: 11.7930 - acc: 0.1164 - val_loss: 2.1324 - val_acc: 0.2287\n",
            "\n",
            "Epoch 00001: val_acc improved from -inf to 0.22870, saving model to weights.best.hdf5\n",
            "Epoch 2/10\n",
            "50000/50000 [==============================] - 3s 54us/step - loss: 1.9369 - acc: 0.2979 - val_loss: 1.7768 - val_acc: 0.3556\n",
            "\n",
            "Epoch 00002: val_acc improved from 0.22870 to 0.35560, saving model to weights.best.hdf5\n",
            "Epoch 3/10\n",
            "50000/50000 [==============================] - 3s 55us/step - loss: 1.7679 - acc: 0.3657 - val_loss: 1.7263 - val_acc: 0.3842\n",
            "\n",
            "Epoch 00003: val_acc improved from 0.35560 to 0.38420, saving model to weights.best.hdf5\n",
            "Epoch 4/10\n",
            "50000/50000 [==============================] - 3s 53us/step - loss: 1.6779 - acc: 0.3972 - val_loss: 1.6251 - val_acc: 0.4203\n",
            "\n",
            "Epoch 00004: val_acc improved from 0.38420 to 0.42030, saving model to weights.best.hdf5\n",
            "Epoch 5/10\n",
            "50000/50000 [==============================] - 3s 53us/step - loss: 1.6094 - acc: 0.4219 - val_loss: 1.5805 - val_acc: 0.4382\n",
            "\n",
            "Epoch 00005: val_acc improved from 0.42030 to 0.43820, saving model to weights.best.hdf5\n",
            "Epoch 6/10\n",
            "50000/50000 [==============================] - 3s 53us/step - loss: 1.5613 - acc: 0.4416 - val_loss: 1.5961 - val_acc: 0.4360\n",
            "\n",
            "Epoch 00006: val_acc did not improve from 0.43820\n",
            "Epoch 7/10\n",
            "50000/50000 [==============================] - 3s 51us/step - loss: 1.5260 - acc: 0.4572 - val_loss: 1.6704 - val_acc: 0.4108\n",
            "\n",
            "Epoch 00007: val_acc did not improve from 0.43820\n",
            "Epoch 8/10\n",
            "50000/50000 [==============================] - 3s 52us/step - loss: 1.4894 - acc: 0.4707 - val_loss: 1.5781 - val_acc: 0.4361\n",
            "\n",
            "Epoch 00008: val_acc did not improve from 0.43820\n",
            "Epoch 9/10\n",
            "50000/50000 [==============================] - 3s 52us/step - loss: 1.4614 - acc: 0.4803 - val_loss: 1.5448 - val_acc: 0.4504\n",
            "\n",
            "Epoch 00009: val_acc improved from 0.43820 to 0.45040, saving model to weights.best.hdf5\n",
            "Epoch 10/10\n",
            "50000/50000 [==============================] - 3s 55us/step - loss: 1.4353 - acc: 0.4897 - val_loss: 1.5467 - val_acc: 0.4640\n",
            "\n",
            "Epoch 00010: val_acc improved from 0.45040 to 0.46400, saving model to weights.best.hdf5\n"
          ],
          "name": "stdout"
        },
        {
          "output_type": "execute_result",
          "data": {
            "text/plain": [
              "<keras.callbacks.History at 0x7f558687a5c0>"
            ]
          },
          "metadata": {
            "tags": []
          },
          "execution_count": 8
        }
      ]
    },
    {
      "cell_type": "markdown",
      "metadata": {
        "id": "6rjBcZ7iSg-1",
        "colab_type": "text"
      },
      "source": [
        "**CIFAR 100**"
      ]
    },
    {
      "cell_type": "code",
      "metadata": {
        "id": "5NMR-ZzkSBc7",
        "colab_type": "code",
        "outputId": "1860c513-7522-4aa6-ff39-d7c097c127e7",
        "colab": {
          "base_uri": "https://localhost:8080/",
          "height": 756
        }
      },
      "source": [
        "from keras.datasets import cifar100\n",
        "from keras.models import Sequential\n",
        "from keras.layers import Dense, Dropout, Activation, Flatten\n",
        "from keras.utils import to_categorical\n",
        "\n",
        "#import dataset\n",
        "(X_train, Y_train), (X_test, Y_test) = cifar100.load_data()\n",
        "\n",
        "#change shape from image to vector\n",
        "X_train = X_train.reshape(50000, 32 * 32 * 3)\n",
        "X_test = X_test.reshape(10000, 32 * 32 * 3)\n",
        "\n",
        "#preprocess\n",
        "X_train = X_train.astype('float32')\n",
        "X_test = X_test.astype('float32')\n",
        "X_train /= 255.0\n",
        "X_test /= 255.0\n",
        "\n",
        "#change labels from numeric to one hot encoded\n",
        "Y_train = to_categorical(Y_train, 100)\n",
        "Y_test =  to_categorical(Y_test, 100)\n",
        "\n",
        "#Model building\n",
        "model = Sequential()\n",
        "model.add(Dense(1024, input_shape=(3072, )))\n",
        "model.add(Activation('relu'))\n",
        "model.add(Dense(512))\n",
        "model.add(Activation('relu'))\n",
        "model.add(Dense(512))\n",
        "model.add(Activation('relu'))\n",
        "model.add(Dense(100))\n",
        "model.add(Activation('softmax'))\n",
        "\n",
        "# Compile model using above optimizer\n",
        "model.compile(optimizer='rmsprop',\n",
        "              loss='categorical_crossentropy',\n",
        "              metrics=['accuracy'])\n",
        "\n",
        "filepath=\"weights.best.hdf5\"\n",
        "checkpoint = ModelCheckpoint(filepath, monitor='val_acc', verbose=1, save_best_only=True, mode='max')\n",
        "callbacks_list = [checkpoint]\n",
        "\n",
        "model.fit(X_train, Y_train,\n",
        "          batch_size=BATCH_SIZE,\n",
        "          epochs=EPOCHS,\n",
        "          verbose=1,\n",
        "          validation_data=(X_test, Y_test), callbacks=callbacks_list)\n"
      ],
      "execution_count": 0,
      "outputs": [
        {
          "output_type": "stream",
          "text": [
            "Downloading data from https://www.cs.toronto.edu/~kriz/cifar-100-python.tar.gz\n",
            "169009152/169001437 [==============================] - 6s 0us/step\n",
            "Train on 50000 samples, validate on 10000 samples\n",
            "Epoch 1/10\n",
            "50000/50000 [==============================] - 3s 66us/step - loss: 4.2841 - acc: 0.0599 - val_loss: 3.8744 - val_acc: 0.1058\n",
            "\n",
            "Epoch 00001: val_acc improved from -inf to 0.10580, saving model to weights.best.hdf5\n",
            "Epoch 2/10\n",
            "50000/50000 [==============================] - 3s 54us/step - loss: 3.7871 - acc: 0.1198 - val_loss: 3.6532 - val_acc: 0.1417\n",
            "\n",
            "Epoch 00002: val_acc improved from 0.10580 to 0.14170, saving model to weights.best.hdf5\n",
            "Epoch 3/10\n",
            "50000/50000 [==============================] - 3s 54us/step - loss: 3.5961 - acc: 0.1521 - val_loss: 3.6192 - val_acc: 0.1458\n",
            "\n",
            "Epoch 00003: val_acc improved from 0.14170 to 0.14580, saving model to weights.best.hdf5\n",
            "Epoch 4/10\n",
            "50000/50000 [==============================] - 3s 56us/step - loss: 3.4610 - acc: 0.1756 - val_loss: 3.6000 - val_acc: 0.1650\n",
            "\n",
            "Epoch 00004: val_acc improved from 0.14580 to 0.16500, saving model to weights.best.hdf5\n",
            "Epoch 5/10\n",
            "50000/50000 [==============================] - 3s 53us/step - loss: 3.3518 - acc: 0.1958 - val_loss: 3.5390 - val_acc: 0.1769\n",
            "\n",
            "Epoch 00005: val_acc improved from 0.16500 to 0.17690, saving model to weights.best.hdf5\n",
            "Epoch 6/10\n",
            "50000/50000 [==============================] - 3s 53us/step - loss: 3.2654 - acc: 0.2098 - val_loss: 3.3598 - val_acc: 0.2056\n",
            "\n",
            "Epoch 00006: val_acc improved from 0.17690 to 0.20560, saving model to weights.best.hdf5\n",
            "Epoch 7/10\n",
            "50000/50000 [==============================] - 3s 55us/step - loss: 3.1859 - acc: 0.2272 - val_loss: 3.4330 - val_acc: 0.1982\n",
            "\n",
            "Epoch 00007: val_acc did not improve from 0.20560\n",
            "Epoch 8/10\n",
            "50000/50000 [==============================] - 3s 56us/step - loss: 3.1196 - acc: 0.2374 - val_loss: 3.5561 - val_acc: 0.1929\n",
            "\n",
            "Epoch 00008: val_acc did not improve from 0.20560\n",
            "Epoch 9/10\n",
            "50000/50000 [==============================] - 3s 55us/step - loss: 3.0597 - acc: 0.2496 - val_loss: 3.4795 - val_acc: 0.1984\n",
            "\n",
            "Epoch 00009: val_acc did not improve from 0.20560\n",
            "Epoch 10/10\n",
            "50000/50000 [==============================] - 3s 55us/step - loss: 3.0035 - acc: 0.2608 - val_loss: 3.5008 - val_acc: 0.2110\n",
            "\n",
            "Epoch 00010: val_acc improved from 0.20560 to 0.21100, saving model to weights.best.hdf5\n"
          ],
          "name": "stdout"
        },
        {
          "output_type": "execute_result",
          "data": {
            "text/plain": [
              "<keras.callbacks.History at 0x7f55867319b0>"
            ]
          },
          "metadata": {
            "tags": []
          },
          "execution_count": 10
        }
      ]
    },
    {
      "cell_type": "markdown",
      "metadata": {
        "id": "K8Zju_TZSk_G",
        "colab_type": "text"
      },
      "source": [
        "**FASHION_MNIST**"
      ]
    },
    {
      "cell_type": "code",
      "metadata": {
        "id": "Q9eBOG8PSnwb",
        "colab_type": "code",
        "outputId": "4426959f-5cd6-4d88-e6a2-8eda2a0979af",
        "colab": {
          "base_uri": "https://localhost:8080/",
          "height": 857
        }
      },
      "source": [
        "import keras\n",
        "from keras import models\n",
        "from keras.layers import Dense, Dropout\n",
        "from keras.utils import to_categorical\n",
        "from keras.datasets import fashion_mnist\n",
        "from keras.utils.vis_utils import model_to_dot\n",
        "from IPython.display import SVG\n",
        "\n",
        "NUM_ROWS = 28\n",
        "NUM_COLS = 28\n",
        "NUM_CLASSES = 10\n",
        "BATCH_SIZE = 128\n",
        "EPOCHS = 10\n",
        "\n",
        "# Load data\n",
        "(X_train, Y_train), (X_test, Y_test) = fashion_mnist.load_data()\n",
        "\n",
        "\n",
        "\n",
        "# Reshape data\n",
        "X_train = X_train.reshape((X_train.shape[0], NUM_ROWS * NUM_COLS))\n",
        "X_train = X_train.astype('float32') / 255\n",
        "X_test = X_test.reshape((X_test.shape[0], NUM_ROWS * NUM_COLS))\n",
        "X_test = X_test.astype('float32') / 255\n",
        "\n",
        "# Categorically encode labels\n",
        "Y_train = to_categorical(Y_train, NUM_CLASSES)\n",
        "Y_test = to_categorical(Y_test, NUM_CLASSES)\n",
        "\n",
        "\n",
        "# Build neural network\n",
        "model = models.Sequential()\n",
        "model.add(Dense(512, activation='relu', input_shape=(NUM_ROWS * NUM_COLS,)))\n",
        "model.add(Dense(256, activation='relu'))\n",
        "model.add(Dense(10, activation='softmax'))\n",
        "\n",
        "# Compile model using above optimizer\n",
        "model.compile(optimizer='rmsprop',\n",
        "              loss='categorical_crossentropy',\n",
        "              metrics=['accuracy'])\n",
        "\n",
        "filepath=\"weights.best.hdf5\"\n",
        "checkpoint = ModelCheckpoint(filepath, monitor='val_acc', verbose=1, save_best_only=True, mode='max')\n",
        "callbacks_list = [checkpoint]\n",
        "\n",
        "model.fit(X_train, Y_train,\n",
        "          batch_size=BATCH_SIZE,\n",
        "          epochs=EPOCHS,\n",
        "          verbose=1,\n",
        "          validation_data=(X_test, Y_test), callbacks=callbacks_list)"
      ],
      "execution_count": 0,
      "outputs": [
        {
          "output_type": "stream",
          "text": [
            "Downloading data from http://fashion-mnist.s3-website.eu-central-1.amazonaws.com/train-labels-idx1-ubyte.gz\n",
            "32768/29515 [=================================] - 0s 0us/step\n",
            "Downloading data from http://fashion-mnist.s3-website.eu-central-1.amazonaws.com/train-images-idx3-ubyte.gz\n",
            "26427392/26421880 [==============================] - 0s 0us/step\n",
            "Downloading data from http://fashion-mnist.s3-website.eu-central-1.amazonaws.com/t10k-labels-idx1-ubyte.gz\n",
            "8192/5148 [===============================================] - 0s 0us/step\n",
            "Downloading data from http://fashion-mnist.s3-website.eu-central-1.amazonaws.com/t10k-images-idx3-ubyte.gz\n",
            "4423680/4422102 [==============================] - 0s 0us/step\n",
            "Train on 60000 samples, validate on 10000 samples\n",
            "Epoch 1/10\n",
            "60000/60000 [==============================] - 2s 41us/step - loss: 0.5400 - acc: 0.8025 - val_loss: 0.4040 - val_acc: 0.8542\n",
            "\n",
            "Epoch 00001: val_acc improved from -inf to 0.85420, saving model to weights.best.hdf5\n",
            "Epoch 2/10\n",
            "60000/60000 [==============================] - 2s 31us/step - loss: 0.3739 - acc: 0.8617 - val_loss: 0.4306 - val_acc: 0.8434\n",
            "\n",
            "Epoch 00002: val_acc did not improve from 0.85420\n",
            "Epoch 3/10\n",
            "60000/60000 [==============================] - 2s 31us/step - loss: 0.3336 - acc: 0.8769 - val_loss: 0.3829 - val_acc: 0.8609\n",
            "\n",
            "Epoch 00003: val_acc improved from 0.85420 to 0.86090, saving model to weights.best.hdf5\n",
            "Epoch 4/10\n",
            "60000/60000 [==============================] - 2s 34us/step - loss: 0.3085 - acc: 0.8863 - val_loss: 0.3858 - val_acc: 0.8631\n",
            "\n",
            "Epoch 00004: val_acc improved from 0.86090 to 0.86310, saving model to weights.best.hdf5\n",
            "Epoch 5/10\n",
            "60000/60000 [==============================] - 2s 33us/step - loss: 0.2918 - acc: 0.8925 - val_loss: 0.3751 - val_acc: 0.8746\n",
            "\n",
            "Epoch 00005: val_acc improved from 0.86310 to 0.87460, saving model to weights.best.hdf5\n",
            "Epoch 6/10\n",
            "60000/60000 [==============================] - 2s 33us/step - loss: 0.2785 - acc: 0.8963 - val_loss: 0.3613 - val_acc: 0.8752\n",
            "\n",
            "Epoch 00006: val_acc improved from 0.87460 to 0.87520, saving model to weights.best.hdf5\n",
            "Epoch 7/10\n",
            "60000/60000 [==============================] - 2s 33us/step - loss: 0.2664 - acc: 0.9025 - val_loss: 0.3776 - val_acc: 0.8790\n",
            "\n",
            "Epoch 00007: val_acc improved from 0.87520 to 0.87900, saving model to weights.best.hdf5\n",
            "Epoch 8/10\n",
            "60000/60000 [==============================] - 2s 34us/step - loss: 0.2572 - acc: 0.9049 - val_loss: 0.3716 - val_acc: 0.8806\n",
            "\n",
            "Epoch 00008: val_acc improved from 0.87900 to 0.88060, saving model to weights.best.hdf5\n",
            "Epoch 9/10\n",
            "60000/60000 [==============================] - 2s 34us/step - loss: 0.2472 - acc: 0.9074 - val_loss: 0.3416 - val_acc: 0.8845\n",
            "\n",
            "Epoch 00009: val_acc improved from 0.88060 to 0.88450, saving model to weights.best.hdf5\n",
            "Epoch 10/10\n",
            "60000/60000 [==============================] - 2s 33us/step - loss: 0.2405 - acc: 0.9118 - val_loss: 0.3741 - val_acc: 0.8811\n",
            "\n",
            "Epoch 00010: val_acc did not improve from 0.88450\n"
          ],
          "name": "stdout"
        },
        {
          "output_type": "execute_result",
          "data": {
            "text/plain": [
              "<keras.callbacks.History at 0x7f558663ab70>"
            ]
          },
          "metadata": {
            "tags": []
          },
          "execution_count": 11
        }
      ]
    }
  ]
}