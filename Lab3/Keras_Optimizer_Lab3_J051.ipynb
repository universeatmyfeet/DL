{
  "nbformat": 4,
  "nbformat_minor": 0,
  "metadata": {
    "colab": {
      "name": "Keras_Optimizer_Lab3_j051.ipynb",
      "provenance": [],
      "collapsed_sections": [],
      "include_colab_link": true
    },
    "kernelspec": {
      "name": "python3",
      "display_name": "Python 3"
    },
    "accelerator": "GPU"
  },
  "cells": [
    {
      "cell_type": "markdown",
      "metadata": {
        "id": "view-in-github",
        "colab_type": "text"
      },
      "source": [
        "<a href=\"https://colab.research.google.com/github/universeatmyfeet/DL/blob/master/Lab3/Keras_Optimizer_Lab3_J051.ipynb\" target=\"_parent\"><img src=\"https://colab.research.google.com/assets/colab-badge.svg\" alt=\"Open In Colab\"/></a>"
      ]
    },
    {
      "cell_type": "markdown",
      "metadata": {
        "id": "q2MjJI_kBDYy",
        "colab_type": "text"
      },
      "source": [
        "#Usage of optimizers\n",
        "\n",
        "An optimizer is one of the two arguments required for compiling a Keras model:\n",
        "\n",
        "The optimizer is provided in model compilation step as shown below."
      ]
    },
    {
      "cell_type": "code",
      "metadata": {
        "id": "VZZLzy1xA0TB",
        "colab_type": "code",
        "colab": {}
      },
      "source": [
        "import keras\n",
        "from keras import models\n",
        "from keras.layers import Dense, Dropout\n",
        "from keras.utils import to_categorical\n",
        "from keras.datasets import mnist\n",
        "from keras.utils.vis_utils import model_to_dot\n",
        "from IPython.display import SVG\n",
        "\n",
        "NUM_ROWS = 28\n",
        "NUM_COLS = 28\n",
        "NUM_CLASSES = 10\n",
        "BATCH_SIZE = 128\n",
        "EPOCHS = 10\n",
        "\n",
        "# Load data\n",
        "(X_train, y_train), (X_test, y_test) = mnist.load_data()\n",
        "\n",
        "\n",
        "\n",
        "# Reshape data\n",
        "X_train = X_train.reshape((X_train.shape[0], NUM_ROWS * NUM_COLS))\n",
        "X_train = X_train.astype('float32') / 255\n",
        "X_test = X_test.reshape((X_test.shape[0], NUM_ROWS * NUM_COLS))\n",
        "X_test = X_test.astype('float32') / 255\n",
        "\n",
        "# Categorically encode labels\n",
        "y_train = to_categorical(y_train, NUM_CLASSES)\n",
        "y_test = to_categorical(y_test, NUM_CLASSES)\n",
        "\n",
        "\n",
        "# Build neural network\n",
        "model = models.Sequential()\n",
        "model.add(Dense(512, activation='relu', input_shape=(NUM_ROWS * NUM_COLS,)))\n",
        "model.add(Dense(256, activation='relu'))\n",
        "model.add(Dense(10, activation='softmax'))\n",
        "\n",
        "# Compile model\n",
        "model.compile(optimizer='rmsprop',\n",
        "              loss='categorical_crossentropy',\n",
        "              metrics=['accuracy'])\n",
        "\n",
        "# Train model\n",
        "model.fit(X_train, y_train,\n",
        "          batch_size=BATCH_SIZE,\n",
        "          epochs=EPOCHS,\n",
        "          verbose=1,\n",
        "          validation_data=(X_test, y_test))\n",
        "\n",
        "score = model.evaluate(X_test, y_test, verbose=0)\n",
        "print('Test loss:', score[0])\n",
        "print('Test accuracy:', score[1])"
      ],
      "execution_count": 0,
      "outputs": []
    },
    {
      "cell_type": "markdown",
      "metadata": {
        "id": "ljnd23JDCKKT",
        "colab_type": "text"
      },
      "source": [
        "#Parameters common to all Keras optimizers\n",
        "\n",
        "The parameters clipnorm and clipvalue can be used with all optimizers to control gradient clipping:"
      ]
    },
    {
      "cell_type": "markdown",
      "metadata": {
        "id": "hG0HTz9lCY5s",
        "colab_type": "text"
      },
      "source": [
        "#SGD\n",
        "\n",
        "keras.optimizers.SGD(learning_rate=0.01, momentum=0.0, nesterov=False)\n",
        "\n",
        "##Stochastic gradient descent optimizer.\n",
        "\n",
        "Includes support for momentum, learning rate decay, and Nesterov momentum.\n",
        "\n",
        "##Arguments\n",
        "\n",
        "1. learning_rate: float >= 0. Learning rate.\n",
        "2. momentum: float >= 0. Parameter that accelerates SGD in the relevant direction and dampens oscillations.\n",
        "3. nesterov: boolean. Whether to apply Nesterov momentum."
      ]
    },
    {
      "cell_type": "code",
      "metadata": {
        "id": "88yumcFOCVkM",
        "colab_type": "code",
        "colab": {}
      },
      "source": [
        "from keras import optimizers\n",
        "sgd=keras.optimizers.SGD(lr=0.01, momentum=0.0, nesterov=False)"
      ],
      "execution_count": 0,
      "outputs": []
    },
    {
      "cell_type": "code",
      "metadata": {
        "id": "-RdoZtUVCnde",
        "colab_type": "code",
        "colab": {}
      },
      "source": [
        "# Compile model using above optimizer\n",
        "model.compile(optimizer=sgd,\n",
        "              loss='categorical_crossentropy',\n",
        "              metrics=['accuracy'])\n",
        "\n",
        "# Train model\n",
        "model.fit(X_train, y_train,\n",
        "          batch_size=BATCH_SIZE,\n",
        "          epochs=EPOCHS,\n",
        "          verbose=1,\n",
        "          validation_data=(X_test, y_test))\n",
        "\n",
        "score = model.evaluate(X_test, y_test, verbose=0)\n",
        "print('Test loss:', score[0])\n",
        "print('Test accuracy:', score[1])"
      ],
      "execution_count": 0,
      "outputs": []
    },
    {
      "cell_type": "markdown",
      "metadata": {
        "id": "aO8vbsw7ENqL",
        "colab_type": "text"
      },
      "source": [
        "#RMSprop\n",
        "\n",
        "keras.optimizers.RMSprop(learning_rate=0.001, rho=0.9)\n",
        "\n",
        "##RMSProp optimizer.\n",
        "\n",
        "It is recommended to leave the parameters of this optimizer at their default values (except the learning rate, which can be freely tuned).\n",
        "\n",
        "Arguments\n",
        "\n",
        "1. learning_rate: float >= 0. Learning rate.\n",
        "2. rho: float >= 0."
      ]
    },
    {
      "cell_type": "code",
      "metadata": {
        "id": "IR-QUUrDEj0o",
        "colab_type": "code",
        "colab": {}
      },
      "source": [
        "from keras import optimizers\n",
        "rms=keras.optimizers.RMSprop(lr=0.001, rho=0.9)"
      ],
      "execution_count": 0,
      "outputs": []
    },
    {
      "cell_type": "code",
      "metadata": {
        "id": "Lk6hNp3DEn-K",
        "colab_type": "code",
        "colab": {}
      },
      "source": [
        "# Compile model using above optimizer\n",
        "model.compile(optimizer=rms,\n",
        "              loss='categorical_crossentropy',\n",
        "              metrics=['accuracy'])\n",
        "\n",
        "# Train model\n",
        "model.fit(X_train, y_train,\n",
        "          batch_size=BATCH_SIZE,\n",
        "          epochs=EPOCHS,\n",
        "          verbose=1,\n",
        "          validation_data=(X_test, y_test))\n",
        "\n",
        "score = model.evaluate(X_test, y_test, verbose=0)\n",
        "print('Test loss:', score[0])\n",
        "print('Test accuracy:', score[1])"
      ],
      "execution_count": 0,
      "outputs": []
    },
    {
      "cell_type": "markdown",
      "metadata": {
        "id": "qx-VvwfIEy5w",
        "colab_type": "text"
      },
      "source": [
        "#Adagrad\n",
        "\n",
        "keras.optimizers.Adagrad(learning_rate=0.01)\n",
        "\n",
        "##Adagrad optimizer.\n",
        "\n",
        "Adagrad is an optimizer with parameter-specific learning rates, which are adapted relative to how frequently a parameter gets updated during training. The more updates a parameter receives, the smaller the learning rate.\n",
        "\n",
        "It is recommended to leave the parameters of this optimizer at their default values.\n",
        "\n",
        "##Arguments\n",
        "\n",
        "1. learning_rate: float >= 0. Initial learning rate."
      ]
    },
    {
      "cell_type": "code",
      "metadata": {
        "id": "-WjeweM7E5rL",
        "colab_type": "code",
        "colab": {}
      },
      "source": [
        "from keras import optimizers\n",
        "ada=keras.optimizers.Adagrad(lr=0.01)\n"
      ],
      "execution_count": 0,
      "outputs": []
    },
    {
      "cell_type": "code",
      "metadata": {
        "id": "vIHdU-GnE6or",
        "colab_type": "code",
        "colab": {}
      },
      "source": [
        "# Compile model using above optimizer\n",
        "model.compile(optimizer=ada,\n",
        "              loss='categorical_crossentropy',\n",
        "              metrics=['accuracy'])\n",
        "\n",
        "# Train model\n",
        "model.fit(X_train, y_train,\n",
        "          batch_size=BATCH_SIZE,\n",
        "          epochs=EPOCHS,\n",
        "          verbose=1,\n",
        "          validation_data=(X_test, y_test))\n",
        "\n",
        "score = model.evaluate(X_test, y_test, verbose=0)\n",
        "print('Test loss:', score[0])\n",
        "print('Test accuracy:', score[1])"
      ],
      "execution_count": 0,
      "outputs": []
    },
    {
      "cell_type": "markdown",
      "metadata": {
        "id": "i8ubIHPIFLEA",
        "colab_type": "text"
      },
      "source": [
        "#Adadelta\n",
        "\n",
        "keras.optimizers.Adadelta(learning_rate=1.0, rho=0.95)\n",
        "\n",
        "##Adadelta optimizer.\n",
        "\n",
        "Adadelta is a more robust extension of Adagrad that adapts learning rates based on a moving window of gradient updates, instead of accumulating all past gradients. This way, Adadelta continues learning even when many updates have been done. Compared to Adagrad, in the original version of Adadelta you don't have to set an initial learning rate. In this version, initial learning rate and decay factor can be set, as in most other Keras optimizers.\n",
        "\n",
        "It is recommended to leave the parameters of this optimizer at their default values.\n",
        "\n",
        "##Arguments\n",
        "\n",
        "1. learning_rate: float >= 0. Initial learning rate, defaults to 1. It is recommended to leave it at the default value.\n",
        "2. rho: float >= 0. Adadelta decay factor, corresponding to fraction of gradient to keep at each time step."
      ]
    },
    {
      "cell_type": "code",
      "metadata": {
        "id": "qhgBFpumFLWL",
        "colab_type": "code",
        "colab": {}
      },
      "source": [
        "from keras import optimizers\n",
        "adelta=keras.optimizers.Adadelta(lr=1.0, rho=0.95)\n",
        "\n"
      ],
      "execution_count": 0,
      "outputs": []
    },
    {
      "cell_type": "code",
      "metadata": {
        "id": "l6FHDYGzFRP3",
        "colab_type": "code",
        "colab": {}
      },
      "source": [
        "# Compile model using above optimizer\n",
        "model.compile(optimizer=adelta,\n",
        "              loss='categorical_crossentropy',\n",
        "              metrics=['accuracy'])\n",
        "\n",
        "# Train model\n",
        "model.fit(X_train, y_train,\n",
        "          batch_size=BATCH_SIZE,\n",
        "          epochs=EPOCHS,\n",
        "          verbose=1,\n",
        "          validation_data=(X_test, y_test))\n",
        "\n",
        "score = model.evaluate(X_test, y_test, verbose=0)\n",
        "print('Test loss:', score[0])\n",
        "print('Test accuracy:', score[1])"
      ],
      "execution_count": 0,
      "outputs": []
    },
    {
      "cell_type": "markdown",
      "metadata": {
        "id": "p9L-CMG6Fdfh",
        "colab_type": "text"
      },
      "source": [
        "#Adam\n",
        "\n",
        "keras.optimizers.Adam(learning_rate=0.001, beta_1=0.9, beta_2=0.999, amsgrad=False)\n",
        "\n",
        "##Adam optimizer.\n",
        "\n",
        "Default parameters follow those provided in the original paper.\n",
        "\n",
        "##Arguments\n",
        "\n",
        "1. learning_rate: float >= 0. Learning rate.\n",
        "2. beta_1: float, 0 < beta < 1. Generally close to 1.\n",
        "3. beta_2: float, 0 < beta < 1. Generally close to 1.\n",
        "4. amsgrad: boolean. Whether to apply the AMSGrad variant of this algorithm from the paper \"On the Convergence of Adam and Beyond\"."
      ]
    },
    {
      "cell_type": "code",
      "metadata": {
        "id": "zJMOPew6FqqY",
        "colab_type": "code",
        "colab": {}
      },
      "source": [
        "from keras import optimizers\n",
        "adam=keras.optimizers.Adam(lr=0.001, beta_1=0.9, beta_2=0.999, amsgrad=False)"
      ],
      "execution_count": 0,
      "outputs": []
    },
    {
      "cell_type": "code",
      "metadata": {
        "id": "VPXdzhFZFq2z",
        "colab_type": "code",
        "colab": {}
      },
      "source": [
        "# Compile model using above optimizer\n",
        "model.compile(optimizer=adam,\n",
        "              loss='categorical_crossentropy',\n",
        "              metrics=['accuracy'])\n",
        "\n",
        "# Train model\n",
        "model.fit(X_train, y_train,\n",
        "          batch_size=BATCH_SIZE,\n",
        "          epochs=EPOCHS,\n",
        "          verbose=1,\n",
        "          validation_data=(X_test, y_test))\n",
        "\n",
        "score = model.evaluate(X_test, y_test, verbose=0)\n",
        "print('Test loss:', score[0])\n",
        "print('Test accuracy:', score[1])"
      ],
      "execution_count": 0,
      "outputs": []
    },
    {
      "cell_type": "markdown",
      "metadata": {
        "id": "cY_OJBuuF5Cx",
        "colab_type": "text"
      },
      "source": [
        "#Adamax\n",
        "\n",
        "keras.optimizers.Adamax(learning_rate=0.002, beta_1=0.9, beta_2=0.999)\n",
        "\n",
        "Adamax optimizer from Adam paper's Section 7.\n",
        "\n",
        "It is a variant of Adam based on the infinity norm. Default parameters follow those provided in the paper.\n",
        "\n",
        "##Arguments\n",
        "\n",
        "1. learning_rate: float >= 0. Learning rate.\n",
        "2. beta_1: float, 0 < beta < 1. Generally close to 1.\n",
        "3. beta_2: float, 0 < beta < 1. Generally close to 1."
      ]
    },
    {
      "cell_type": "code",
      "metadata": {
        "id": "4gyPzlPZF_6g",
        "colab_type": "code",
        "colab": {}
      },
      "source": [
        "from keras import optimizers\n",
        "adamax=keras.optimizers.Adamax(lr=0.002, beta_1=0.9, beta_2=0.999)\n"
      ],
      "execution_count": 0,
      "outputs": []
    },
    {
      "cell_type": "code",
      "metadata": {
        "id": "E6bN-BTcGABe",
        "colab_type": "code",
        "colab": {}
      },
      "source": [
        "# Compile model using above optimizer\n",
        "model.compile(optimizer=adamax,\n",
        "              loss='categorical_crossentropy',\n",
        "              metrics=['accuracy'])\n",
        "\n",
        "# Train model\n",
        "model.fit(X_train, y_train,\n",
        "          batch_size=BATCH_SIZE,\n",
        "          epochs=EPOCHS,\n",
        "          verbose=1,\n",
        "          validation_data=(X_test, y_test))\n",
        "\n",
        "score = model.evaluate(X_test, y_test, verbose=0)\n",
        "print('Test loss:', score[0])\n",
        "print('Test accuracy:', score[1])"
      ],
      "execution_count": 0,
      "outputs": []
    },
    {
      "cell_type": "markdown",
      "metadata": {
        "id": "asUHZi1vGMt5",
        "colab_type": "text"
      },
      "source": [
        "#Nadam\n",
        "\n",
        "keras.optimizers.Nadam(learning_rate=0.002, beta_1=0.9, beta_2=0.999)\n",
        "\n",
        "##Nesterov Adam optimizer.\n",
        "\n",
        "Much like Adam is essentially RMSprop with momentum, Nadam is RMSprop with Nesterov momentum.\n",
        "\n",
        "Default parameters follow those provided in the paper. It is recommended to leave the parameters of this optimizer at their default values.\n",
        "\n",
        "##Arguments\n",
        "\n",
        "1. learning_rate: float >= 0. Learning rate.\n",
        "2. beta_1: float, 0 < beta < 1. Generally close to 1.\n",
        "3. beta_2: float, 0 < beta < 1. Generally close to 1."
      ]
    },
    {
      "cell_type": "code",
      "metadata": {
        "id": "eNvmlsUnGTtb",
        "colab_type": "code",
        "colab": {}
      },
      "source": [
        "from keras import optimizers\n",
        "nadam=keras.optimizers.Nadam(lr=0.002, beta_1=0.9, beta_2=0.999)\n",
        "\n"
      ],
      "execution_count": 0,
      "outputs": []
    },
    {
      "cell_type": "code",
      "metadata": {
        "id": "4qGcyfhNGUE8",
        "colab_type": "code",
        "colab": {}
      },
      "source": [
        "# Compile model using above optimizer\n",
        "model.compile(optimizer=nadam,\n",
        "              loss='categorical_crossentropy',\n",
        "              metrics=['accuracy'])\n",
        "\n",
        "# Train model\n",
        "model.fit(X_train, y_train,\n",
        "          batch_size=BATCH_SIZE,\n",
        "          epochs=EPOCHS,\n",
        "          verbose=1,\n",
        "          validation_data=(X_test, y_test))\n",
        "\n",
        "score = model.evaluate(X_test, y_test, verbose=0)\n",
        "print('Test loss:', score[0])\n",
        "print('Test accuracy:', score[1])"
      ],
      "execution_count": 0,
      "outputs": []
    },
    {
      "cell_type": "markdown",
      "metadata": {
        "id": "KRNBjVYJFHF_",
        "colab_type": "text"
      },
      "source": [
        "### **Fashion MNIST**"
      ]
    },
    {
      "cell_type": "code",
      "metadata": {
        "id": "PnkZ0DIWFHja",
        "colab_type": "code",
        "outputId": "5dd42403-fa89-4a07-a57e-c3606c89d633",
        "colab": {
          "base_uri": "https://localhost:8080/",
          "height": 544
        }
      },
      "source": [
        "#import packages\n",
        "import keras\n",
        "from keras.datasets import fashion_mnist\n",
        "from keras.models import Sequential\n",
        "from keras.layers import Dense, Dropout, Activation, Flatten\n",
        "from keras.utils import to_categorical\n",
        "from keras import optimizers\n",
        "\n",
        "adamax=keras.optimizers.Adamax(lr=0.002, beta_1=0.9, beta_2=0.999)\n",
        "\n",
        "#import dataset\n",
        "(X_train, y_train), (X_test, y_test) = fashion_mnist.load_data()\n",
        "\n",
        "# Reshape data\n",
        "X_train = X_train.reshape((X_train.shape[0], 28 * 28))\n",
        "X_train = X_train.astype('float32') / 255\n",
        "X_test = X_test.reshape((X_test.shape[0], 28 * 28))\n",
        "X_test = X_test.astype('float32') / 255\n",
        "\n",
        "# Categorically encode labels\n",
        "y_train = to_categorical(y_train, 10)\n",
        "y_test = to_categorical(y_test, 10)\n",
        "\n",
        "# Compile model using above optimizer\n",
        "model.compile(optimizer=adamax,\n",
        "              loss='categorical_crossentropy',\n",
        "              metrics=['accuracy'])\n",
        "\n",
        "# Train model\n",
        "model.fit(X_train, y_train,\n",
        "          batch_size=128,\n",
        "          epochs=10,\n",
        "          verbose=1,\n",
        "          validation_data=(X_test, y_test))\n",
        "\n",
        "score = model.evaluate(X_test, y_test, verbose=0)\n",
        "print('Test loss:', score[0])\n",
        "print('Test accuracy:', score[1])"
      ],
      "execution_count": 0,
      "outputs": [
        {
          "output_type": "stream",
          "text": [
            "Downloading data from http://fashion-mnist.s3-website.eu-central-1.amazonaws.com/train-labels-idx1-ubyte.gz\n",
            "32768/29515 [=================================] - 0s 0us/step\n",
            "Downloading data from http://fashion-mnist.s3-website.eu-central-1.amazonaws.com/train-images-idx3-ubyte.gz\n",
            "26427392/26421880 [==============================] - 0s 0us/step\n",
            "Downloading data from http://fashion-mnist.s3-website.eu-central-1.amazonaws.com/t10k-labels-idx1-ubyte.gz\n",
            "8192/5148 [===============================================] - 0s 0us/step\n",
            "Downloading data from http://fashion-mnist.s3-website.eu-central-1.amazonaws.com/t10k-images-idx3-ubyte.gz\n",
            "4423680/4422102 [==============================] - 0s 0us/step\n",
            "Train on 60000 samples, validate on 10000 samples\n",
            "Epoch 1/10\n",
            "60000/60000 [==============================] - 2s 34us/step - loss: 0.9270 - acc: 0.7539 - val_loss: 0.5387 - val_acc: 0.8151\n",
            "Epoch 2/10\n",
            "60000/60000 [==============================] - 2s 27us/step - loss: 0.4500 - acc: 0.8448 - val_loss: 0.4565 - val_acc: 0.8425\n",
            "Epoch 3/10\n",
            "60000/60000 [==============================] - 2s 27us/step - loss: 0.3874 - acc: 0.8643 - val_loss: 0.4110 - val_acc: 0.8536\n",
            "Epoch 4/10\n",
            "60000/60000 [==============================] - 2s 27us/step - loss: 0.3524 - acc: 0.8740 - val_loss: 0.3906 - val_acc: 0.8618\n",
            "Epoch 5/10\n",
            "60000/60000 [==============================] - 2s 28us/step - loss: 0.3263 - acc: 0.8820 - val_loss: 0.3745 - val_acc: 0.8667\n",
            "Epoch 6/10\n",
            "60000/60000 [==============================] - 2s 28us/step - loss: 0.3062 - acc: 0.8896 - val_loss: 0.3671 - val_acc: 0.8704\n",
            "Epoch 7/10\n",
            "60000/60000 [==============================] - 2s 27us/step - loss: 0.2888 - acc: 0.8956 - val_loss: 0.3565 - val_acc: 0.8730\n",
            "Epoch 8/10\n",
            "60000/60000 [==============================] - 2s 26us/step - loss: 0.2790 - acc: 0.8981 - val_loss: 0.3523 - val_acc: 0.8757\n",
            "Epoch 9/10\n",
            "60000/60000 [==============================] - 2s 26us/step - loss: 0.2662 - acc: 0.9027 - val_loss: 0.3560 - val_acc: 0.8751\n",
            "Epoch 10/10\n",
            "60000/60000 [==============================] - 2s 26us/step - loss: 0.2532 - acc: 0.9068 - val_loss: 0.3395 - val_acc: 0.8813\n",
            "Test loss: 0.3394837742686272\n",
            "Test accuracy: 0.8813\n"
          ],
          "name": "stdout"
        }
      ]
    },
    {
      "cell_type": "markdown",
      "metadata": {
        "id": "A_4edlObIHPe",
        "colab_type": "text"
      },
      "source": [
        "### **CIFAR 10**"
      ]
    },
    {
      "cell_type": "code",
      "metadata": {
        "id": "Fq077tjtIHjo",
        "colab_type": "code",
        "outputId": "02f50296-8707-4b4e-9464-10a3c303e392",
        "colab": {
          "base_uri": "https://localhost:8080/",
          "height": 425
        }
      },
      "source": [
        "#import packages\n",
        "from keras.datasets import cifar10\n",
        "from keras.models import Sequential\n",
        "from keras.layers import Dense, Dropout, Activation, Flatten\n",
        "from keras.utils import to_categorical\n",
        "from keras import optimizers\n",
        "\n",
        "adamax=keras.optimizers.Adamax(lr=0.002, beta_1=0.9, beta_2=0.999)\n",
        "\n",
        "#import dataset\n",
        "(X_train, y_train), (X_test, y_test) = cifar10.load_data()\n",
        "\n",
        "#change shape from image to vector\n",
        "X_train = X_train.reshape(50000, 32 * 32 * 3)\n",
        "X_test = X_test.reshape(10000, 32 * 32 * 3)\n",
        "\n",
        "#preprocess\n",
        "X_train = X_train.astype('float32')\n",
        "X_test = X_test.astype('float32')\n",
        "X_train /= 255.0\n",
        "X_test /= 255.0\n",
        "\n",
        "#change labels from numeric to one hot encoded\n",
        "Y_train = to_categorical(y_train, 10)\n",
        "Y_test =  to_categorical(y_test, 10)\n",
        "\n",
        "#Model building\n",
        "model = Sequential()\n",
        "model.add(Dense(1024, input_shape=(3072, )))\n",
        "model.add(Activation('relu'))\n",
        "model.add(Dense(512))\n",
        "model.add(Activation('relu'))\n",
        "model.add(Dense(512))\n",
        "model.add(Activation('relu'))\n",
        "model.add(Dense(10))\n",
        "model.add(Activation('softmax'))\n",
        "\n",
        "# Compile model using above optimizer\n",
        "model.compile(optimizer=adamax,\n",
        "              loss='categorical_crossentropy',\n",
        "              metrics=['accuracy'])\n",
        "\n",
        "# Train model\n",
        "model.fit(X_train, Y_train,\n",
        "          batch_size=128,\n",
        "          epochs=10,\n",
        "          verbose=1,\n",
        "          validation_data=(X_test, Y_test))\n",
        "\n",
        "score = model.evaluate(X_test, Y_test, verbose=1)\n",
        "print('Test loss:', score[0])\n",
        "print('Test accuracy:', score[1])"
      ],
      "execution_count": 0,
      "outputs": [
        {
          "output_type": "stream",
          "text": [
            "Train on 50000 samples, validate on 10000 samples\n",
            "Epoch 1/10\n",
            "50000/50000 [==============================] - 3s 54us/step - loss: 2.0352 - acc: 0.2951 - val_loss: 1.7365 - val_acc: 0.3784\n",
            "Epoch 2/10\n",
            "50000/50000 [==============================] - 2s 41us/step - loss: 1.7069 - acc: 0.3889 - val_loss: 1.6803 - val_acc: 0.3959\n",
            "Epoch 3/10\n",
            "50000/50000 [==============================] - 2s 41us/step - loss: 1.6135 - acc: 0.4257 - val_loss: 1.6326 - val_acc: 0.4214\n",
            "Epoch 4/10\n",
            "50000/50000 [==============================] - 2s 43us/step - loss: 1.5376 - acc: 0.4510 - val_loss: 1.4953 - val_acc: 0.4605\n",
            "Epoch 5/10\n",
            "50000/50000 [==============================] - 2s 41us/step - loss: 1.4888 - acc: 0.4685 - val_loss: 1.4703 - val_acc: 0.4782\n",
            "Epoch 6/10\n",
            "50000/50000 [==============================] - 2s 41us/step - loss: 1.4486 - acc: 0.4831 - val_loss: 1.4599 - val_acc: 0.4809\n",
            "Epoch 7/10\n",
            "50000/50000 [==============================] - 2s 41us/step - loss: 1.4065 - acc: 0.4967 - val_loss: 1.4237 - val_acc: 0.4964\n",
            "Epoch 8/10\n",
            "50000/50000 [==============================] - 2s 41us/step - loss: 1.3708 - acc: 0.5117 - val_loss: 1.4360 - val_acc: 0.4866\n",
            "Epoch 9/10\n",
            "50000/50000 [==============================] - 2s 41us/step - loss: 1.3313 - acc: 0.5251 - val_loss: 1.4005 - val_acc: 0.4983\n",
            "Epoch 10/10\n",
            "50000/50000 [==============================] - 2s 41us/step - loss: 1.3000 - acc: 0.5355 - val_loss: 1.4160 - val_acc: 0.4966\n",
            "10000/10000 [==============================] - 0s 40us/step\n",
            "Test loss: 1.416036258506775\n",
            "Test accuracy: 0.4966\n"
          ],
          "name": "stdout"
        }
      ]
    },
    {
      "cell_type": "markdown",
      "metadata": {
        "id": "gy-zkLkhJRK6",
        "colab_type": "text"
      },
      "source": [
        "### **CIFAR 100**"
      ]
    },
    {
      "cell_type": "code",
      "metadata": {
        "id": "AoIi4jpgJRoD",
        "colab_type": "code",
        "outputId": "d175c607-7d7b-460b-b939-3bd4c6c5d1f7",
        "colab": {
          "base_uri": "https://localhost:8080/",
          "height": 459
        }
      },
      "source": [
        "#import packages\n",
        "from keras.datasets import cifar100\n",
        "from keras.models import Sequential\n",
        "from keras.layers import Dense, Dropout, Activation, Flatten\n",
        "from keras.utils import to_categorical\n",
        "from keras import optimizers\n",
        "\n",
        "adamax=keras.optimizers.Adamax(lr=0.002, beta_1=0.9, beta_2=0.999)\n",
        "\n",
        "#import dataset\n",
        "(X_train, y_train), (X_test, y_test) = cifar100.load_data()\n",
        "\n",
        "#change shape from image to vector\n",
        "X_train = X_train.reshape(50000, 32 * 32 * 3)\n",
        "X_test = X_test.reshape(10000, 32 * 32 * 3)\n",
        "\n",
        "#preprocess\n",
        "X_train = X_train.astype('float32')\n",
        "X_test = X_test.astype('float32')\n",
        "X_train /= 255.0\n",
        "X_test /= 255.0\n",
        "\n",
        "#change labels from numeric to one hot encoded\n",
        "Y_train = to_categorical(y_train, 100)\n",
        "Y_test =  to_categorical(y_test, 100)\n",
        "\n",
        "#Model building\n",
        "model = Sequential()\n",
        "model.add(Dense(1024, input_shape=(3072, )))\n",
        "model.add(Activation('relu'))\n",
        "model.add(Dense(512))\n",
        "model.add(Activation('relu'))\n",
        "model.add(Dense(512))\n",
        "model.add(Activation('relu'))\n",
        "model.add(Dense(100))\n",
        "model.add(Activation('softmax'))\n",
        "\n",
        "# Compile model using above optimizer\n",
        "model.compile(optimizer=adamax,\n",
        "              loss='categorical_crossentropy',\n",
        "              metrics=['accuracy'])\n",
        "\n",
        "# Train model\n",
        "model.fit(X_train, Y_train,\n",
        "          batch_size=128,\n",
        "          epochs=10,\n",
        "          verbose=1,\n",
        "          validation_data=(X_test, Y_test))\n",
        "\n",
        "score = model.evaluate(X_test, Y_test, verbose=1)\n",
        "print('Test loss:', score[0])\n",
        "print('Test accuracy:', score[1])"
      ],
      "execution_count": 0,
      "outputs": [
        {
          "output_type": "stream",
          "text": [
            "Downloading data from https://www.cs.toronto.edu/~kriz/cifar-100-python.tar.gz\n",
            "169009152/169001437 [==============================] - 6s 0us/step\n",
            "Train on 50000 samples, validate on 10000 samples\n",
            "Epoch 1/10\n",
            "50000/50000 [==============================] - 3s 53us/step - loss: 4.1948 - acc: 0.0646 - val_loss: 3.8947 - val_acc: 0.1032\n",
            "Epoch 2/10\n",
            "50000/50000 [==============================] - 2s 43us/step - loss: 3.7389 - acc: 0.1294 - val_loss: 3.6473 - val_acc: 0.1463\n",
            "Epoch 3/10\n",
            "50000/50000 [==============================] - 2s 42us/step - loss: 3.5412 - acc: 0.1624 - val_loss: 3.5357 - val_acc: 0.1740\n",
            "Epoch 4/10\n",
            "50000/50000 [==============================] - 2s 42us/step - loss: 3.4031 - acc: 0.1878 - val_loss: 3.4175 - val_acc: 0.1976\n",
            "Epoch 5/10\n",
            "50000/50000 [==============================] - 2s 43us/step - loss: 3.2951 - acc: 0.2060 - val_loss: 3.3781 - val_acc: 0.2003\n",
            "Epoch 6/10\n",
            "50000/50000 [==============================] - 2s 41us/step - loss: 3.1897 - acc: 0.2246 - val_loss: 3.3264 - val_acc: 0.2102\n",
            "Epoch 7/10\n",
            "50000/50000 [==============================] - 2s 42us/step - loss: 3.0987 - acc: 0.2453 - val_loss: 3.2702 - val_acc: 0.2248\n",
            "Epoch 8/10\n",
            "50000/50000 [==============================] - 2s 42us/step - loss: 3.0205 - acc: 0.2578 - val_loss: 3.2544 - val_acc: 0.2246\n",
            "Epoch 9/10\n",
            "50000/50000 [==============================] - 2s 42us/step - loss: 2.9416 - acc: 0.2707 - val_loss: 3.2119 - val_acc: 0.2334\n",
            "Epoch 10/10\n",
            "50000/50000 [==============================] - 2s 42us/step - loss: 2.8630 - acc: 0.2850 - val_loss: 3.2244 - val_acc: 0.2348\n",
            "10000/10000 [==============================] - 0s 44us/step\n",
            "Test loss: 3.2243631477355956\n",
            "Test accuracy: 0.2348\n"
          ],
          "name": "stdout"
        }
      ]
    },
    {
      "cell_type": "markdown",
      "metadata": {
        "id": "jF0vhIgmJ-1o",
        "colab_type": "text"
      },
      "source": [
        "### **IRIS**"
      ]
    },
    {
      "cell_type": "code",
      "metadata": {
        "id": "HOPcmw_gJ_J1",
        "colab_type": "code",
        "outputId": "b74067a1-913e-42cf-c3cb-5066174ef311",
        "colab": {
          "base_uri": "https://localhost:8080/",
          "height": 408
        }
      },
      "source": [
        "#import packages\n",
        "import pandas\n",
        "from keras.models import Sequential\n",
        "from keras.layers import Dense\n",
        "from keras.wrappers.scikit_learn import KerasClassifier\n",
        "from keras.utils import np_utils\n",
        "from sklearn.model_selection import cross_val_score\n",
        "from sklearn.model_selection import KFold\n",
        "from sklearn.preprocessing import LabelEncoder\n",
        "from sklearn.pipeline import Pipeline\n",
        "from sklearn.datasets import load_iris\n",
        "from sklearn.model_selection import train_test_split\n",
        "from sklearn.preprocessing import OneHotEncoder\n",
        "from keras import optimizers\n",
        "\n",
        "adamax=keras.optimizers.Adamax(lr=0.002, beta_1=0.9, beta_2=0.999)\n",
        "\n",
        "iris_data = load_iris()\n",
        "\t\n",
        "x = iris_data.data\n",
        "y_ = iris_data.target.reshape(-1, 1) # Convert data to a single column\n",
        "\n",
        "# One Hot encode the class labels\n",
        "encoder = OneHotEncoder(sparse=False)\n",
        "y = encoder.fit_transform(y_)\n",
        "\n",
        "# Split the data for training and testing\n",
        "train_x, test_x, train_y, test_y = train_test_split(x, y, test_size=0.01)\n",
        "\n",
        "model = Sequential()\n",
        "\n",
        "model.add(Dense(10, input_shape=(4,), activation='relu'))\n",
        "model.add(Dense(10, activation='relu'))\n",
        "model.add(Dense(3, activation='softmax'))\n",
        "\n",
        "# Compile model using above optimizer\n",
        "model.compile(optimizer=adamax,\n",
        "              loss='categorical_crossentropy',\n",
        "              metrics=['accuracy'])\n",
        "\n",
        "# Train model\n",
        "model.fit(train_x, train_y,\n",
        "          batch_size=5,\n",
        "          epochs=10,\n",
        "          verbose=2,\n",
        "          validation_data=(test_x, test_y))\n",
        "\n",
        "score = model.evaluate(test_x, test_y, verbose=2)\n",
        "print('Test loss:', score[0])\n",
        "print('Test accuracy:', score[1])"
      ],
      "execution_count": 0,
      "outputs": [
        {
          "output_type": "stream",
          "text": [
            "Train on 148 samples, validate on 2 samples\n",
            "Epoch 1/10\n",
            " - 1s - loss: 2.4086 - acc: 0.2432 - val_loss: 3.8123 - val_acc: 0.0000e+00\n",
            "Epoch 2/10\n",
            " - 0s - loss: 1.5781 - acc: 0.3311 - val_loss: 2.3074 - val_acc: 0.0000e+00\n",
            "Epoch 3/10\n",
            " - 0s - loss: 1.1287 - acc: 0.3378 - val_loss: 1.3651 - val_acc: 0.0000e+00\n",
            "Epoch 4/10\n",
            " - 0s - loss: 0.8598 - acc: 0.5068 - val_loss: 0.8904 - val_acc: 1.0000\n",
            "Epoch 5/10\n",
            " - 0s - loss: 0.7131 - acc: 0.8108 - val_loss: 0.6726 - val_acc: 1.0000\n",
            "Epoch 6/10\n",
            " - 0s - loss: 0.6317 - acc: 0.9595 - val_loss: 0.5321 - val_acc: 1.0000\n",
            "Epoch 7/10\n",
            " - 0s - loss: 0.5817 - acc: 0.9189 - val_loss: 0.4455 - val_acc: 1.0000\n",
            "Epoch 8/10\n",
            " - 0s - loss: 0.5475 - acc: 0.9189 - val_loss: 0.3843 - val_acc: 1.0000\n",
            "Epoch 9/10\n",
            " - 0s - loss: 0.5182 - acc: 0.9662 - val_loss: 0.3340 - val_acc: 1.0000\n",
            "Epoch 10/10\n",
            " - 0s - loss: 0.4935 - acc: 0.9392 - val_loss: 0.3025 - val_acc: 1.0000\n",
            "Test loss: 0.30251479148864746\n",
            "Test accuracy: 1.0\n"
          ],
          "name": "stdout"
        }
      ]
    },
    {
      "cell_type": "markdown",
      "metadata": {
        "id": "KScHf1u7ChPw",
        "colab_type": "text"
      },
      "source": [
        "Optimizer:\n",
        "\n",
        "\n",
        "1.   Standard:\n",
        "acc: 0.9969, \n",
        "val_loss: 0.1073, \n",
        "val_acc: 0.9794\n",
        "\n",
        "2.   SGD:\n",
        "acc: 0.9999, \n",
        "val_loss: 0.0829, \n",
        "val_acc: 0.9840\n",
        "\n",
        "3. Rmsprop:\n",
        "acc: 0.9989,\n",
        "val_loss: 0.1504, \n",
        "val_acc: 0.9814\n",
        "\n",
        "4. Adagrad:\n",
        "acc: 1.0000, \n",
        "val_loss: 0.1044, \n",
        "val_acc: 0.9858\n",
        "\n",
        "5. Adadelta:\n",
        "acc: 1.0000, \n",
        "val_loss: 0.1058, \n",
        "val_acc: 0.9858\n",
        "\n",
        "6. Adam:\n",
        "acc: 0.9986, \n",
        "val_loss: 0.1008, \n",
        "val_acc: 0.9814\n",
        "\n",
        "7. Adamax:\n",
        "acc: 1.0000, \n",
        "val_loss: 0.0977, \n",
        "val_acc: 0.9859\n",
        "\n",
        "8. Nadam:\n",
        "acc: 0.9964, \n",
        "val_loss: 0.1314, \n",
        "val_acc: 0.9796"
      ]
    },
    {
      "cell_type": "markdown",
      "metadata": {
        "id": "jn5HgnuoDk-3",
        "colab_type": "text"
      },
      "source": [
        "Conclusion:\n",
        "After testing all the optimizers, Adamax was found to give the highest validation accuracy.\n",
        "\n",
        "Fashion MNIST Dataset:\n",
        "Adamax:\n",
        "acc: 0.9068, \n",
        "val_loss: 0.3395,\n",
        "val_acc: 0.8813,\n",
        "\n",
        "CIFAR 10 Dataset:\n",
        "Adamax:\n",
        "acc: 0.5355,\n",
        "val_loss: 1.4160,\n",
        "val_acc: 0.4966\n",
        "\n",
        "CIFAR 100 Dataset:\n",
        "Adamax:\n",
        "acc: 0.2850,\n",
        "val_loss: 3.2244,\n",
        "val_acc: 0.2348\n",
        "\n",
        "IRIS Dataset:\n",
        "Adamax: \n",
        "acc: 0.9392,\n",
        "val_loss: 0.3025,\n",
        "val_acc: 1.0\n"
      ]
    },
    {
      "cell_type": "markdown",
      "metadata": {
        "id": "UR2xxjsjGn8Q",
        "colab_type": "text"
      },
      "source": [
        "#Thank you for completing the notebook"
      ]
    }
  ]
}